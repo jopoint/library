{
 "cells": [
  {
   "cell_type": "code",
   "execution_count": 1,
   "metadata": {},
   "outputs": [],
   "source": [
    "from nltk.tokenize import word_tokenize\n",
    "import pandas as pd\n",
    "import spacy \n",
    "import matplotlib.pyplot as plt\n",
    "import gzip,os,glob\n",
    "import numpy as np\n",
    "import pickle\n",
    "import nltk\n",
    "import codecs\n",
    "from langdetect import detect"
   ]
  },
  {
   "cell_type": "code",
   "execution_count": 2,
   "metadata": {},
   "outputs": [
    {
     "name": "stdout",
     "output_type": "stream",
     "text": [
      "(20247, 5)\n"
     ]
    }
   ],
   "source": [
    "# load data from pkl file \n",
    "df = pd.read_pickle('../data/data_filtered contents.pkl')\n",
    "print(df.shape)"
   ]
  },
  {
   "cell_type": "code",
   "execution_count": 3,
   "metadata": {},
   "outputs": [],
   "source": [
    "# Adds new collumn, detects language of column\n",
    "df['Languagereview'] = df['content'].apply(detect)"
   ]
  },
  {
   "cell_type": "code",
   "execution_count": 4,
   "metadata": {},
   "outputs": [],
   "source": [
    "# delets all rows with the value \"en\"\n",
    "df = df[df.Languagereview == \"de\"]"
   ]
  },
  {
   "cell_type": "code",
   "execution_count": 5,
   "metadata": {},
   "outputs": [
    {
     "name": "stdout",
     "output_type": "stream",
     "text": [
      "(18143, 6)\n"
     ]
    }
   ],
   "source": [
    "# resets index from 0, 4, 11, ... (random) to 0,1,2, ...\n",
    "df.reset_index(inplace=True,drop=True)\n",
    "print(df.shape)"
   ]
  },
  {
   "cell_type": "code",
   "execution_count": 6,
   "metadata": {},
   "outputs": [
    {
     "data": {
      "text/html": [
       "<div>\n",
       "<style scoped>\n",
       "    .dataframe tbody tr th:only-of-type {\n",
       "        vertical-align: middle;\n",
       "    }\n",
       "\n",
       "    .dataframe tbody tr th {\n",
       "        vertical-align: top;\n",
       "    }\n",
       "\n",
       "    .dataframe thead th {\n",
       "        text-align: right;\n",
       "    }\n",
       "</style>\n",
       "<table border=\"1\" class=\"dataframe\">\n",
       "  <thead>\n",
       "    <tr style=\"text-align: right;\">\n",
       "      <th></th>\n",
       "      <th>author</th>\n",
       "      <th>title</th>\n",
       "      <th>class</th>\n",
       "      <th>content</th>\n",
       "      <th>word_count</th>\n",
       "      <th>Languagereview</th>\n",
       "    </tr>\n",
       "  </thead>\n",
       "  <tbody>\n",
       "    <tr>\n",
       "      <th>0</th>\n",
       "      <td>NaN</td>\n",
       "      <td>Aernout Mik - Communitas</td>\n",
       "      <td>[Kunstgeschichte]</td>\n",
       "      <td>aernout mik zaehlt zu den wichtigsten kuenstle...</td>\n",
       "      <td>64</td>\n",
       "      <td>de</td>\n",
       "    </tr>\n",
       "    <tr>\n",
       "      <th>1</th>\n",
       "      <td>NaN</td>\n",
       "      <td>Anton Henning  : Dt. /Engl.</td>\n",
       "      <td>NaN</td>\n",
       "      <td>die vorliegende publikation widmet sich drei o...</td>\n",
       "      <td>113</td>\n",
       "      <td>de</td>\n",
       "    </tr>\n",
       "    <tr>\n",
       "      <th>2</th>\n",
       "      <td>Specht, Heike</td>\n",
       "      <td>Die Feuchtwangers  : Familie, Tradition und j...</td>\n",
       "      <td>[Sprachwissenschaften, Geschichte]</td>\n",
       "      <td>jahre geschichte deutschjuedischen buergertums...</td>\n",
       "      <td>169</td>\n",
       "      <td>de</td>\n",
       "    </tr>\n",
       "    <tr>\n",
       "      <th>3</th>\n",
       "      <td>Scruton, Roger</td>\n",
       "      <td>Grüne Philosophie  : Ein konservativer Denkan...</td>\n",
       "      <td>[Allgemeines, Philosophie, Theologie und Relig...</td>\n",
       "      <td>der umweltschutz liegt herkoemmlich im hoheits...</td>\n",
       "      <td>101</td>\n",
       "      <td>de</td>\n",
       "    </tr>\n",
       "    <tr>\n",
       "      <th>4</th>\n",
       "      <td>Schlagowski, Heinz</td>\n",
       "      <td>Technische Dokumentation im Maschinen- und An...</td>\n",
       "      <td>[Technik]</td>\n",
       "      <td>das buch gibt dem anwender die entscheidenden ...</td>\n",
       "      <td>156</td>\n",
       "      <td>de</td>\n",
       "    </tr>\n",
       "  </tbody>\n",
       "</table>\n",
       "</div>"
      ],
      "text/plain": [
       "               author                                              title  \\\n",
       "0                 NaN                          Aernout Mik - Communitas    \n",
       "1                 NaN                       Anton Henning  : Dt. /Engl.    \n",
       "2       Specht, Heike   Die Feuchtwangers  : Familie, Tradition und j...   \n",
       "3      Scruton, Roger   Grüne Philosophie  : Ein konservativer Denkan...   \n",
       "4  Schlagowski, Heinz   Technische Dokumentation im Maschinen- und An...   \n",
       "\n",
       "                                               class  \\\n",
       "0                                  [Kunstgeschichte]   \n",
       "1                                                NaN   \n",
       "2                 [Sprachwissenschaften, Geschichte]   \n",
       "3  [Allgemeines, Philosophie, Theologie und Relig...   \n",
       "4                                          [Technik]   \n",
       "\n",
       "                                             content  word_count  \\\n",
       "0  aernout mik zaehlt zu den wichtigsten kuenstle...          64   \n",
       "1  die vorliegende publikation widmet sich drei o...         113   \n",
       "2  jahre geschichte deutschjuedischen buergertums...         169   \n",
       "3  der umweltschutz liegt herkoemmlich im hoheits...         101   \n",
       "4  das buch gibt dem anwender die entscheidenden ...         156   \n",
       "\n",
       "  Languagereview  \n",
       "0             de  \n",
       "1             de  \n",
       "2             de  \n",
       "3             de  \n",
       "4             de  "
      ]
     },
     "execution_count": 6,
     "metadata": {},
     "output_type": "execute_result"
    }
   ],
   "source": [
    "# Removing non-alphabetical symbols in dataframe, keeping umlauts\n",
    "df['content'] = df['content'].replace('[^a-zA-Z \\äöüß]', '', regex=True).str.replace(' +',' ').str.strip()\n",
    "# Transform umlauts\n",
    "df['content'] = df['content'].str.replace(chr(252), 'ue')\n",
    "df['content'] = df['content'].str.replace(chr(228), 'ae')\n",
    "df['content'] = df['content'].str.replace(chr(246), 'oe')\n",
    "df['content'] = df['content'].str.replace(chr(196), 'Ae')\n",
    "df['content'] = df['content'].str.replace(chr(214), 'Oe')\n",
    "df['content'] = df['content'].str.replace(chr(220), 'Ue')\n",
    "df['content'] = df['content'].str.replace(chr(223), 'ss')\n",
    "# Lowercase\n",
    "df['content'] = df['content'].str.lower()\n",
    "df.head()"
   ]
  },
  {
   "cell_type": "markdown",
   "metadata": {},
   "source": [
    "<h1>Remove Stop Words</h1>"
   ]
  },
  {
   "cell_type": "code",
   "execution_count": 7,
   "metadata": {},
   "outputs": [
    {
     "data": {
      "text/plain": [
       "'aernout mik zaehlt wichtigsten kuenstlern niederlande installationen film video performance skulptur architektur oszillieren kunst bewegten bild grundlegend weiterentwickelt werke spiegeln gesellschaften kriege wirtschaftliche depression wider katalog praesentiert wichtige arbeiten kuenstlers nie zuvor deutschland sehen ausstellung oktober januar museum folkwang essen'"
      ]
     },
     "execution_count": 7,
     "metadata": {},
     "output_type": "execute_result"
    }
   ],
   "source": [
    "from nltk.corpus import stopwords\n",
    "stop = stopwords.words('german')\n",
    "df['content_nltk'] = df['content'].apply(lambda x: ' '.join([word for word in x.split() if word not in (stop)]))\n",
    "df['content_nltk'].iloc[0]"
   ]
  },
  {
   "cell_type": "code",
   "execution_count": 8,
   "metadata": {},
   "outputs": [
    {
     "data": {
      "text/html": [
       "<div>\n",
       "<style scoped>\n",
       "    .dataframe tbody tr th:only-of-type {\n",
       "        vertical-align: middle;\n",
       "    }\n",
       "\n",
       "    .dataframe tbody tr th {\n",
       "        vertical-align: top;\n",
       "    }\n",
       "\n",
       "    .dataframe thead th {\n",
       "        text-align: right;\n",
       "    }\n",
       "</style>\n",
       "<table border=\"1\" class=\"dataframe\">\n",
       "  <thead>\n",
       "    <tr style=\"text-align: right;\">\n",
       "      <th></th>\n",
       "      <th>author</th>\n",
       "      <th>title</th>\n",
       "      <th>class</th>\n",
       "      <th>content</th>\n",
       "      <th>word_count</th>\n",
       "      <th>Languagereview</th>\n",
       "      <th>content_nltk</th>\n",
       "    </tr>\n",
       "  </thead>\n",
       "  <tbody>\n",
       "    <tr>\n",
       "      <th>0</th>\n",
       "      <td>NaN</td>\n",
       "      <td>Aernout Mik - Communitas</td>\n",
       "      <td>[Kunstgeschichte]</td>\n",
       "      <td>aernout mik zaehlt zu den wichtigsten kuenstle...</td>\n",
       "      <td>64</td>\n",
       "      <td>de</td>\n",
       "      <td>aernout mik zaehlt wichtigsten kuenstlern nied...</td>\n",
       "    </tr>\n",
       "    <tr>\n",
       "      <th>1</th>\n",
       "      <td>NaN</td>\n",
       "      <td>Anton Henning  : Dt. /Engl.</td>\n",
       "      <td>NaN</td>\n",
       "      <td>die vorliegende publikation widmet sich drei o...</td>\n",
       "      <td>113</td>\n",
       "      <td>de</td>\n",
       "      <td>vorliegende publikation widmet drei ortsbezoge...</td>\n",
       "    </tr>\n",
       "    <tr>\n",
       "      <th>2</th>\n",
       "      <td>Specht, Heike</td>\n",
       "      <td>Die Feuchtwangers  : Familie, Tradition und j...</td>\n",
       "      <td>[Sprachwissenschaften, Geschichte]</td>\n",
       "      <td>jahre geschichte deutschjuedischen buergertums...</td>\n",
       "      <td>169</td>\n",
       "      <td>de</td>\n",
       "      <td>jahre geschichte deutschjuedischen buergertums...</td>\n",
       "    </tr>\n",
       "    <tr>\n",
       "      <th>3</th>\n",
       "      <td>Scruton, Roger</td>\n",
       "      <td>Grüne Philosophie  : Ein konservativer Denkan...</td>\n",
       "      <td>[Allgemeines, Philosophie, Theologie und Relig...</td>\n",
       "      <td>der umweltschutz liegt herkoemmlich im hoheits...</td>\n",
       "      <td>101</td>\n",
       "      <td>de</td>\n",
       "      <td>umweltschutz liegt herkoemmlich hoheitsgebiet ...</td>\n",
       "    </tr>\n",
       "    <tr>\n",
       "      <th>4</th>\n",
       "      <td>Schlagowski, Heinz</td>\n",
       "      <td>Technische Dokumentation im Maschinen- und An...</td>\n",
       "      <td>[Technik]</td>\n",
       "      <td>das buch gibt dem anwender die entscheidenden ...</td>\n",
       "      <td>156</td>\n",
       "      <td>de</td>\n",
       "      <td>buch gibt anwender entscheidenden informatione...</td>\n",
       "    </tr>\n",
       "  </tbody>\n",
       "</table>\n",
       "</div>"
      ],
      "text/plain": [
       "               author                                              title  \\\n",
       "0                 NaN                          Aernout Mik - Communitas    \n",
       "1                 NaN                       Anton Henning  : Dt. /Engl.    \n",
       "2       Specht, Heike   Die Feuchtwangers  : Familie, Tradition und j...   \n",
       "3      Scruton, Roger   Grüne Philosophie  : Ein konservativer Denkan...   \n",
       "4  Schlagowski, Heinz   Technische Dokumentation im Maschinen- und An...   \n",
       "\n",
       "                                               class  \\\n",
       "0                                  [Kunstgeschichte]   \n",
       "1                                                NaN   \n",
       "2                 [Sprachwissenschaften, Geschichte]   \n",
       "3  [Allgemeines, Philosophie, Theologie und Relig...   \n",
       "4                                          [Technik]   \n",
       "\n",
       "                                             content  word_count  \\\n",
       "0  aernout mik zaehlt zu den wichtigsten kuenstle...          64   \n",
       "1  die vorliegende publikation widmet sich drei o...         113   \n",
       "2  jahre geschichte deutschjuedischen buergertums...         169   \n",
       "3  der umweltschutz liegt herkoemmlich im hoheits...         101   \n",
       "4  das buch gibt dem anwender die entscheidenden ...         156   \n",
       "\n",
       "  Languagereview                                       content_nltk  \n",
       "0             de  aernout mik zaehlt wichtigsten kuenstlern nied...  \n",
       "1             de  vorliegende publikation widmet drei ortsbezoge...  \n",
       "2             de  jahre geschichte deutschjuedischen buergertums...  \n",
       "3             de  umweltschutz liegt herkoemmlich hoheitsgebiet ...  \n",
       "4             de  buch gibt anwender entscheidenden informatione...  "
      ]
     },
     "execution_count": 8,
     "metadata": {},
     "output_type": "execute_result"
    }
   ],
   "source": [
    "df_test = df[:5]\n",
    "df_test"
   ]
  },
  {
   "cell_type": "markdown",
   "metadata": {},
   "source": [
    "<h1>Tokenizing</h1>"
   ]
  },
  {
   "cell_type": "code",
   "execution_count": 9,
   "metadata": {},
   "outputs": [],
   "source": [
    "# df_tok = df['content_nltk']\n",
    "# df_tok"
   ]
  },
  {
   "cell_type": "code",
   "execution_count": 10,
   "metadata": {},
   "outputs": [],
   "source": [
    "# tokenized = [ nltk.word_tokenize( str(sentence), language='german' ) for sentence in df_tok ]\n",
    "# print(tokenized)"
   ]
  },
  {
   "cell_type": "code",
   "execution_count": 11,
   "metadata": {},
   "outputs": [],
   "source": [
    "# df_tok = df.apply(lambda row: nltk.word_tokenize(row['content_nltk'], language='german'), axis=1)"
   ]
  },
  {
   "cell_type": "code",
   "execution_count": 12,
   "metadata": {},
   "outputs": [],
   "source": [
    "#df_tok"
   ]
  },
  {
   "cell_type": "code",
   "execution_count": 13,
   "metadata": {},
   "outputs": [],
   "source": [
    "# df_tok_test = df_tok[:3]\n",
    "# df_tok_test"
   ]
  },
  {
   "cell_type": "markdown",
   "metadata": {},
   "source": [
    "<h1>Lemmetization</h1>"
   ]
  },
  {
   "cell_type": "code",
   "execution_count": 14,
   "metadata": {},
   "outputs": [],
   "source": [
    "import spacy\n",
    "nlp = spacy.load(\"de_core_news_sm\")\n",
    "\n",
    "df[\"content_nltk\"] = df[\"content_nltk\"].apply(lambda row: \" \".join([w.lemma_ for w in nlp(row)]))"
   ]
  },
  {
   "cell_type": "code",
   "execution_count": 15,
   "metadata": {},
   "outputs": [
    {
     "data": {
      "text/plain": [
       "0        aernout mik zaehlt wichtig kuenstlern niederla...\n",
       "1        vorliegend publikation widmen drei ortsbezogen...\n",
       "2        jahre geschichte deutschjuedischen buergertums...\n",
       "3        umweltschutz liegen herkoemmlich hoheitsgebiet...\n",
       "4        buch geben anwender entscheidend informationen...\n",
       "                               ...                        \n",
       "18138    grundlegende einfuehrung analysis wenden infor...\n",
       "18139    wasserknappheit zentral gesellschaftlich herau...\n",
       "18140    programmieren lernen leicht machen setzen wirk...\n",
       "18141    dokudrama dokufiktion living history dokusoap ...\n",
       "18142    zeitgenoessische dokumentarische theater richt...\n",
       "Name: content_nltk, Length: 18143, dtype: object"
      ]
     },
     "execution_count": 15,
     "metadata": {},
     "output_type": "execute_result"
    }
   ],
   "source": [
    "df[\"content_nltk\"]"
   ]
  },
  {
   "cell_type": "markdown",
   "metadata": {},
   "source": [
    "<h1>Export</h1>"
   ]
  },
  {
   "cell_type": "code",
   "execution_count": 16,
   "metadata": {},
   "outputs": [],
   "source": [
    "df_content = df['content_nltk']"
   ]
  },
  {
   "cell_type": "code",
   "execution_count": 17,
   "metadata": {},
   "outputs": [],
   "source": [
    "df.to_pickle('../data/after_nltk/data_after_nltk.pkl')\n",
    "df_content.to_csv('../data/after_nltk/df_content.csv', index=True)\n",
    "df.to_excel('../data/after_nltk/data_after_nltk.xlsx', index = False)"
   ]
  },
  {
   "cell_type": "code",
   "execution_count": 18,
   "metadata": {},
   "outputs": [],
   "source": [
    "# #counts number of lines\n",
    "# fname = \"df_content.txt\"\n",
    "# count = 0\n",
    "# with open(fname, 'r') as f:\n",
    "#     for line in f:\n",
    "#         count += 1\n",
    "# print(\"Total number of lines is:\", count)"
   ]
  }
 ],
 "metadata": {
  "kernelspec": {
   "display_name": "Python 3",
   "language": "python",
   "name": "python3"
  },
  "language_info": {
   "codemirror_mode": {
    "name": "ipython",
    "version": 3
   },
   "file_extension": ".py",
   "mimetype": "text/x-python",
   "name": "python",
   "nbconvert_exporter": "python",
   "pygments_lexer": "ipython3",
   "version": "3.7.4"
  }
 },
 "nbformat": 4,
 "nbformat_minor": 2
}
