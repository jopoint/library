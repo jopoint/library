{
 "cells": [
  {
   "cell_type": "code",
   "execution_count": 1,
   "metadata": {},
   "outputs": [],
   "source": [
    "from nltk.tokenize import word_tokenize\n",
    "import pandas as pd\n",
    "import spacy \n",
    "import matplotlib.pyplot as plt\n",
    "import gzip,os,glob\n",
    "import numpy as np\n",
    "import pickle\n",
    "import nltk\n",
    "import codecs\n",
    "from langdetect import detect"
   ]
  },
  {
   "cell_type": "code",
   "execution_count": 2,
   "metadata": {},
   "outputs": [
    {
     "name": "stdout",
     "output_type": "stream",
     "text": [
      "(20247, 5)\n"
     ]
    }
   ],
   "source": [
    "# load data from pkl file \n",
    "df = pd.read_pickle('../data/data_filtered contents.pkl')\n",
    "print(df.shape)"
   ]
  },
  {
   "cell_type": "code",
   "execution_count": 3,
   "metadata": {},
   "outputs": [],
   "source": [
    "# Adds new collumn, detects language of column\n",
    "df['Languagereview'] = df['content'].apply(detect)"
   ]
  },
  {
   "cell_type": "code",
   "execution_count": 4,
   "metadata": {},
   "outputs": [],
   "source": [
    "# delets all rows with the value \"en\"\n",
    "df = df[df.Languagereview == \"de\"]"
   ]
  },
  {
   "cell_type": "code",
   "execution_count": 5,
   "metadata": {},
   "outputs": [
    {
     "name": "stdout",
     "output_type": "stream",
     "text": [
      "(18143, 6)\n"
     ]
    }
   ],
   "source": [
    "# resets index from 0, 4, 11, ... (random) to 0,1,2, ...\n",
    "df.reset_index(inplace=True,drop=True)\n",
    "print(df.shape)"
   ]
  },
  {
   "cell_type": "code",
   "execution_count": 21,
   "metadata": {},
   "outputs": [
    {
     "data": {
      "text/html": [
       "<div>\n",
       "<style scoped>\n",
       "    .dataframe tbody tr th:only-of-type {\n",
       "        vertical-align: middle;\n",
       "    }\n",
       "\n",
       "    .dataframe tbody tr th {\n",
       "        vertical-align: top;\n",
       "    }\n",
       "\n",
       "    .dataframe thead th {\n",
       "        text-align: right;\n",
       "    }\n",
       "</style>\n",
       "<table border=\"1\" class=\"dataframe\">\n",
       "  <thead>\n",
       "    <tr style=\"text-align: right;\">\n",
       "      <th></th>\n",
       "      <th>author</th>\n",
       "      <th>title</th>\n",
       "      <th>class</th>\n",
       "      <th>content</th>\n",
       "      <th>word_count</th>\n",
       "      <th>Languagereview</th>\n",
       "      <th>content_nltk</th>\n",
       "    </tr>\n",
       "  </thead>\n",
       "  <tbody>\n",
       "    <tr>\n",
       "      <th>0</th>\n",
       "      <td>NaN</td>\n",
       "      <td>aernout mik communitas</td>\n",
       "      <td>[Kunstgeschichte]</td>\n",
       "      <td>aernout mik zaehlt zu den wichtigsten kuenstle...</td>\n",
       "      <td>64</td>\n",
       "      <td>de</td>\n",
       "      <td>aernout mik communitas aernout mik zaehlt wich...</td>\n",
       "    </tr>\n",
       "    <tr>\n",
       "      <th>1</th>\n",
       "      <td>NaN</td>\n",
       "      <td>anton henning dt engl</td>\n",
       "      <td>NaN</td>\n",
       "      <td>die vorliegende publikation widmet sich drei o...</td>\n",
       "      <td>113</td>\n",
       "      <td>de</td>\n",
       "      <td>anton henning dt engl vorliegend publikation w...</td>\n",
       "    </tr>\n",
       "    <tr>\n",
       "      <th>2</th>\n",
       "      <td>specht heike</td>\n",
       "      <td>die feuchtwangers familie tradition und jüdis...</td>\n",
       "      <td>[Sprachwissenschaften, Geschichte]</td>\n",
       "      <td>jahre geschichte deutschjuedischen buergertums...</td>\n",
       "      <td>169</td>\n",
       "      <td>de</td>\n",
       "      <td>feuchtwangers familie tradition jüdisch selbst...</td>\n",
       "    </tr>\n",
       "    <tr>\n",
       "      <th>3</th>\n",
       "      <td>scruton roger</td>\n",
       "      <td>grüne philosophie ein konservativer denkansatz</td>\n",
       "      <td>[Allgemeines, Philosophie, Theologie und Relig...</td>\n",
       "      <td>der umweltschutz liegt herkoemmlich im hoheits...</td>\n",
       "      <td>101</td>\n",
       "      <td>de</td>\n",
       "      <td>grüne philosophie konservativ denkansatz umwel...</td>\n",
       "    </tr>\n",
       "    <tr>\n",
       "      <th>4</th>\n",
       "      <td>schlagowski heinz</td>\n",
       "      <td>technische dokumentation im maschinen und anl...</td>\n",
       "      <td>[Technik]</td>\n",
       "      <td>das buch gibt dem anwender die entscheidenden ...</td>\n",
       "      <td>156</td>\n",
       "      <td>de</td>\n",
       "      <td>technische dokumentation maschinen anlagenbau ...</td>\n",
       "    </tr>\n",
       "  </tbody>\n",
       "</table>\n",
       "</div>"
      ],
      "text/plain": [
       "              author                                              title  \\\n",
       "0                NaN                            aernout mik communitas    \n",
       "1                NaN                             anton henning dt engl    \n",
       "2       specht heike   die feuchtwangers familie tradition und jüdis...   \n",
       "3      scruton roger     grüne philosophie ein konservativer denkansatz   \n",
       "4  schlagowski heinz   technische dokumentation im maschinen und anl...   \n",
       "\n",
       "                                               class  \\\n",
       "0                                  [Kunstgeschichte]   \n",
       "1                                                NaN   \n",
       "2                 [Sprachwissenschaften, Geschichte]   \n",
       "3  [Allgemeines, Philosophie, Theologie und Relig...   \n",
       "4                                          [Technik]   \n",
       "\n",
       "                                             content  word_count  \\\n",
       "0  aernout mik zaehlt zu den wichtigsten kuenstle...          64   \n",
       "1  die vorliegende publikation widmet sich drei o...         113   \n",
       "2  jahre geschichte deutschjuedischen buergertums...         169   \n",
       "3  der umweltschutz liegt herkoemmlich im hoheits...         101   \n",
       "4  das buch gibt dem anwender die entscheidenden ...         156   \n",
       "\n",
       "  Languagereview                                       content_nltk  \n",
       "0             de  aernout mik communitas aernout mik zaehlt wich...  \n",
       "1             de  anton henning dt engl vorliegend publikation w...  \n",
       "2             de  feuchtwangers familie tradition jüdisch selbst...  \n",
       "3             de  grüne philosophie konservativ denkansatz umwel...  \n",
       "4             de  technische dokumentation maschinen anlagenbau ...  "
      ]
     },
     "execution_count": 21,
     "metadata": {},
     "output_type": "execute_result"
    }
   ],
   "source": [
    "# Removing non-alphabetical symbols in dataframe, keeping umlauts\n",
    "df['content'] = df['content'].replace('[^a-zA-Z \\äöüß]', '', regex=True).str.replace(' +',' ').str.strip()\n",
    "# Transform umlauts\n",
    "df['content'] = df['content'].str.replace(chr(252), 'ue')\n",
    "df['content'] = df['content'].str.replace(chr(228), 'ae')\n",
    "df['content'] = df['content'].str.replace(chr(246), 'oe')\n",
    "df['content'] = df['content'].str.replace(chr(196), 'Ae')\n",
    "df['content'] = df['content'].str.replace(chr(214), 'Oe')\n",
    "df['content'] = df['content'].str.replace(chr(220), 'Ue')\n",
    "df['content'] = df['content'].str.replace(chr(223), 'ss')\n",
    "# Lowercase\n",
    "df['content'] = df['content'].str.lower()\n",
    "df.head()"
   ]
  },
  {
   "cell_type": "markdown",
   "metadata": {},
   "source": [
    "<h1>Combining content</h1>"
   ]
  },
  {
   "cell_type": "code",
   "execution_count": 22,
   "metadata": {},
   "outputs": [],
   "source": [
    "df['title'] = df['title'].str.split('  / von').str[0]\n",
    "df['title'] = df['title'].str.replace('[^\\w\\s]','')\n",
    "df['title'] = df['title'].replace('\\s+', ' ', regex=True)\n",
    "df['title'] = df['title'].str.lower()"
   ]
  },
  {
   "cell_type": "code",
   "execution_count": 23,
   "metadata": {},
   "outputs": [],
   "source": [
    "df['author'] = df['author'].str.split('  / von').str[0]\n",
    "df['author'] = df['author'].str.replace('[^\\w\\s]','')\n",
    "df['author'] = df['author'].replace('\\s+', ' ', regex=True)\n",
    "df['author'] = df['author'].str.lower()"
   ]
  },
  {
   "cell_type": "code",
   "execution_count": 24,
   "metadata": {},
   "outputs": [
    {
     "data": {
      "text/plain": [
       "0        aernout mik communitas aernout mik zaehlt zu d...\n",
       "1        anton henning dt engl die vorliegende publikat...\n",
       "2        die feuchtwangers familie tradition und jüdisc...\n",
       "3        grüne philosophie ein konservativer denkansatz...\n",
       "4        technische dokumentation im maschinen und anla...\n",
       "                               ...                        \n",
       "18138    analysis für informatiker grundlagen methoden ...\n",
       "18139    der wasseratlas ein weltatlas zur wichtigsten ...\n",
       "18140    grundkurs programmieren in java programmieren ...\n",
       "18141    spiel mit der wirklichkeit zur entwicklung dok...\n",
       "18142    dokument fälschung wirklichkeit materialband z...\n",
       "Length: 18143, dtype: object"
      ]
     },
     "execution_count": 24,
     "metadata": {},
     "output_type": "execute_result"
    }
   ],
   "source": [
    "df_combined_temp = df.copy()\n",
    "df_combined_temp.drop(['class','word_count', 'Languagereview'],axis=1, inplace=True)\n",
    "df_combined_temp.replace(np.nan, '', regex=True, inplace=True)\n",
    "df_combined_temp.replace('\\s+', ' ', regex=True, inplace=True)\n",
    "#df_combined = df_combined_temp['author'] +\" \"+ df_combined_temp['title'] +\" \"+ df_combined_temp['content']\n",
    "#df_combined = df_combined_temp['title'] +\" \"+ df_combined_temp['content']\n",
    "df_combined = df_combined.str.strip()\n",
    "df_combined.replace('\\s+', ' ', regex=True, inplace=True)\n",
    "df_combined"
   ]
  },
  {
   "cell_type": "markdown",
   "metadata": {},
   "source": [
    "<h1>Remove Stop Words</h1>"
   ]
  },
  {
   "cell_type": "code",
   "execution_count": 25,
   "metadata": {},
   "outputs": [
    {
     "data": {
      "text/plain": [
       "'grüne philosophie konservativer denkansatz umweltschutz liegt herkoemmlich hoheitsgebiet politischen linken bedrohung natur zufolge internationalen kapitalismus konsumverhalten unbegrenzten ausbeutung natuerlicher ressourcen zuzuschreiben roger scruton entbloesst grundverstaendnis gefaehrlichen trugschluss zerstoererisch kosysteme wirkt denen zukunft abhaengt konservative denker wuerdigt traditionelle prinzipien offensichtlichste wirksamste mittel erhalt planeten sichern lokalismus buergerverantwortung schlagen dabei bemuehungen schwerfaelliger nichtregierungsorganisationen internationaler komitees zukunft mitnichten gesichert roger scruton beweist gedankenreichen schrift fortbestand kosystems erde moeglich'"
      ]
     },
     "execution_count": 25,
     "metadata": {},
     "output_type": "execute_result"
    }
   ],
   "source": [
    "from nltk.corpus import stopwords\n",
    "stop = stopwords.words('german')\n",
    "df['content_nltk'] = df_combined.apply(lambda x: ' '.join([word for word in x.split() if word not in (stop)]))\n",
    "df['content_nltk'].iloc[3]"
   ]
  },
  {
   "cell_type": "markdown",
   "metadata": {},
   "source": [
    "<h1>Tokenizing</h1>"
   ]
  },
  {
   "cell_type": "code",
   "execution_count": 26,
   "metadata": {},
   "outputs": [],
   "source": [
    "# df_tok = df['content_nltk']\n",
    "# df_tok"
   ]
  },
  {
   "cell_type": "code",
   "execution_count": 27,
   "metadata": {},
   "outputs": [],
   "source": [
    "# tokenized = [ nltk.word_tokenize( str(sentence), language='german' ) for sentence in df_tok ]\n",
    "# print(tokenized)"
   ]
  },
  {
   "cell_type": "code",
   "execution_count": 28,
   "metadata": {},
   "outputs": [],
   "source": [
    "# df_tok = df.apply(lambda row: nltk.word_tokenize(row['content_nltk'], language='german'), axis=1)"
   ]
  },
  {
   "cell_type": "code",
   "execution_count": 29,
   "metadata": {},
   "outputs": [],
   "source": [
    "#df_tok"
   ]
  },
  {
   "cell_type": "code",
   "execution_count": 30,
   "metadata": {},
   "outputs": [],
   "source": [
    "# df_tok_test = df_tok[:3]\n",
    "# df_tok_test"
   ]
  },
  {
   "cell_type": "markdown",
   "metadata": {},
   "source": [
    "<h1>Lemmetization</h1>"
   ]
  },
  {
   "cell_type": "code",
   "execution_count": 31,
   "metadata": {},
   "outputs": [],
   "source": [
    "import spacy\n",
    "nlp = spacy.load(\"de_core_news_sm\")\n",
    "\n",
    "df[\"content_nltk\"] = df[\"content_nltk\"].apply(lambda row: \" \".join([w.lemma_ for w in nlp(row)]))"
   ]
  },
  {
   "cell_type": "code",
   "execution_count": 32,
   "metadata": {},
   "outputs": [
    {
     "data": {
      "text/plain": [
       "0        aernout mik communitas aernout mik zaehlt wich...\n",
       "1        anton henning dt engl vorliegend publikation w...\n",
       "2        feuchtwangers familie tradition jüdisch selbst...\n",
       "3        grüne philosophie konservativ denkansatz umwel...\n",
       "4        technische dokumentation maschinen anlagenbau ...\n",
       "                               ...                        \n",
       "18138    analysis informatiker grundlagen methoden algo...\n",
       "18139    wasseratlas weltatlas wichtig ressource lebens...\n",
       "18140    grundkurs programmieren java programmieren ler...\n",
       "18141    spiel wirklichkeit entwicklung dokufiktionaler...\n",
       "18142    dokument fälschung wirklichkeit materialband z...\n",
       "Name: content_nltk, Length: 18143, dtype: object"
      ]
     },
     "execution_count": 32,
     "metadata": {},
     "output_type": "execute_result"
    }
   ],
   "source": [
    "df[\"content_nltk\"]"
   ]
  },
  {
   "cell_type": "markdown",
   "metadata": {},
   "source": [
    "<h1>Export</h1>"
   ]
  },
  {
   "cell_type": "code",
   "execution_count": 33,
   "metadata": {},
   "outputs": [],
   "source": [
    "df.to_pickle('../data/after_nltk/data_after_nltk.pkl')\n",
    "# df_content.to_csv('../data/after_nltk/df_content.csv', index=True)\n",
    "#df[\"content_nltk\"].to_csv('../data/after_nltk/df_content_after_nltk+titles.csv', index=True)\n",
    "df[\"content_nltk\"].to_csv('../data/after_nltk/df_content_after_nltk.csv', index=True)\n",
    "# df.to_excel('../data/after_nltk/data_after_nltk.xlsx', index = False)"
   ]
  },
  {
   "cell_type": "code",
   "execution_count": 34,
   "metadata": {},
   "outputs": [],
   "source": [
    "# #counts number of lines\n",
    "# fname = \"df_content.txt\"\n",
    "# count = 0\n",
    "# with open(fname, 'r') as f:\n",
    "#     for line in f:\n",
    "#         count += 1\n",
    "# print(\"Total number of lines is:\", count)"
   ]
  }
 ],
 "metadata": {
  "kernelspec": {
   "display_name": "Python 3",
   "language": "python",
   "name": "python3"
  },
  "language_info": {
   "codemirror_mode": {
    "name": "ipython",
    "version": 3
   },
   "file_extension": ".py",
   "mimetype": "text/x-python",
   "name": "python",
   "nbconvert_exporter": "python",
   "pygments_lexer": "ipython3",
   "version": "3.7.4"
  }
 },
 "nbformat": 4,
 "nbformat_minor": 2
}
