{
 "cells": [
  {
   "cell_type": "code",
   "execution_count": 54,
   "metadata": {},
   "outputs": [],
   "source": [
    "from nltk.tokenize import word_tokenize\n",
    "import pandas as pd\n",
    "import spacy \n",
    "import matplotlib.pyplot as plt\n",
    "import gzip,os,glob\n",
    "import numpy as np\n",
    "import pickle\n",
    "import nltk\n",
    "import codecs\n",
    "from langdetect import detect\n",
    "import csv\n",
    "from tqdm import tqdm"
   ]
  },
  {
   "cell_type": "code",
   "execution_count": 55,
   "metadata": {},
   "outputs": [
    {
     "name": "stdout",
     "output_type": "stream",
     "text": [
      "(20247, 5)\n"
     ]
    }
   ],
   "source": [
    "# load data from pkl file \n",
    "df = pd.read_pickle('../data/data_filtered contents.pkl')\n",
    "print(df.shape)"
   ]
  },
  {
   "cell_type": "code",
   "execution_count": 56,
   "metadata": {},
   "outputs": [],
   "source": [
    "# Adds new collumn, detects language of column\n",
    "df['Languagereview'] = df['content'].apply(detect)"
   ]
  },
  {
   "cell_type": "code",
   "execution_count": 57,
   "metadata": {},
   "outputs": [],
   "source": [
    "# delets all rows with the value \"en\"\n",
    "df = df[df.Languagereview == \"de\"]"
   ]
  },
  {
   "cell_type": "code",
   "execution_count": 58,
   "metadata": {},
   "outputs": [
    {
     "name": "stdout",
     "output_type": "stream",
     "text": [
      "(18142, 6)\n"
     ]
    }
   ],
   "source": [
    "# resets index from 0, 4, 11, ... (random) to 0,1,2, ...\n",
    "df.reset_index(inplace=True,drop=True)\n",
    "print(df.shape)"
   ]
  },
  {
   "cell_type": "code",
   "execution_count": 59,
   "metadata": {},
   "outputs": [
    {
     "data": {
      "text/html": [
       "<div>\n",
       "<style scoped>\n",
       "    .dataframe tbody tr th:only-of-type {\n",
       "        vertical-align: middle;\n",
       "    }\n",
       "\n",
       "    .dataframe tbody tr th {\n",
       "        vertical-align: top;\n",
       "    }\n",
       "\n",
       "    .dataframe thead th {\n",
       "        text-align: right;\n",
       "    }\n",
       "</style>\n",
       "<table border=\"1\" class=\"dataframe\">\n",
       "  <thead>\n",
       "    <tr style=\"text-align: right;\">\n",
       "      <th></th>\n",
       "      <th>title1</th>\n",
       "      <th>title2</th>\n",
       "      <th>title3</th>\n",
       "      <th>content</th>\n",
       "      <th>word_count</th>\n",
       "    </tr>\n",
       "  </thead>\n",
       "  <tbody>\n",
       "    <tr>\n",
       "      <th>0</th>\n",
       "      <td>Electric gir</td>\n",
       "      <td>None</td>\n",
       "      <td>ein Film von Ziska Riemann   Victoria Schulz  ...</td>\n",
       "      <td>Eine frischgebackene Synchronsprecherin identi...</td>\n",
       "      <td>88</td>\n",
       "    </tr>\n",
       "    <tr>\n",
       "      <th>1</th>\n",
       "      <td>Hans Hartung - malen so schnell wie der Blitz</td>\n",
       "      <td>Hans Hartung - la fureur de peindre.</td>\n",
       "      <td>None</td>\n",
       "      <td>Er konnte malen so schnell wie der Blitz: Der ...</td>\n",
       "      <td>103</td>\n",
       "    </tr>\n",
       "    <tr>\n",
       "      <th>2</th>\n",
       "      <td>Der   Fotograf Roger Melis - Chronist der Ostd...</td>\n",
       "      <td>None</td>\n",
       "      <td>Buch und Regie: Pamela Meyer-Arndt.</td>\n",
       "      <td>In seinen Reportagen zeigte Roger Melis den Al...</td>\n",
       "      <td>71</td>\n",
       "    </tr>\n",
       "    <tr>\n",
       "      <th>3</th>\n",
       "      <td>Ayk</td>\n",
       "      <td>None</td>\n",
       "      <td>Regie: Sergey Dvortsevoy   Drehbuch: Sergey Dv...</td>\n",
       "      <td>Eine illegal unter erbärmlichen Umständen in M...</td>\n",
       "      <td>88</td>\n",
       "    </tr>\n",
       "    <tr>\n",
       "      <th>4</th>\n",
       "      <td>The   unanswered Ives</td>\n",
       "      <td>Wunderkind  Wall-Street-Gigant  Klangpionier</td>\n",
       "      <td>ein Film von Anne-Katrin Peitz.</td>\n",
       "      <td>8    # a \"Charles Ives (1874-1954) ist ein Man...</td>\n",
       "      <td>109</td>\n",
       "    </tr>\n",
       "    <tr>\n",
       "      <th>...</th>\n",
       "      <td>...</td>\n",
       "      <td>...</td>\n",
       "      <td>...</td>\n",
       "      <td>...</td>\n",
       "      <td>...</td>\n",
       "    </tr>\n",
       "    <tr>\n",
       "      <th>7443</th>\n",
       "      <td>Jochen Roller  Let's dance! Lecture  performance</td>\n",
       "      <td>None</td>\n",
       "      <td>Konzept und Leitung: Gabriele Brandstetter.</td>\n",
       "      <td>Jochen Roller  geboren 1971 in Berlin  studier...</td>\n",
       "      <td>90</td>\n",
       "    </tr>\n",
       "    <tr>\n",
       "      <th>7444</th>\n",
       "      <td>Ai Weiwei - Stimmen gegen das Verstummen</td>\n",
       "      <td>None</td>\n",
       "      <td>ein Film von Birgit Adler-Conrad.</td>\n",
       "      <td>Der chinesische Künstler Ai Weiwei wurde im Fr...</td>\n",
       "      <td>141</td>\n",
       "    </tr>\n",
       "    <tr>\n",
       "      <th>7445</th>\n",
       "      <td>New York tomorrow</td>\n",
       "      <td>None</td>\n",
       "      <td>réalisation: Yoann Le Gruiec. Scénario: Jean-M...</td>\n",
       "      <td>Die Webdokumentation \"New York 3.0\" gibt Inter...</td>\n",
       "      <td>55</td>\n",
       "    </tr>\n",
       "    <tr>\n",
       "      <th>7446</th>\n",
       "      <td>Hostess</td>\n",
       "      <td>None</td>\n",
       "      <td>ein Film von Rolf Römer. Mit: Annekathrin Bürg...</td>\n",
       "      <td>Eine Hostess  die seit zwei Jahren mit einem A...</td>\n",
       "      <td>58</td>\n",
       "    </tr>\n",
       "    <tr>\n",
       "      <th>7447</th>\n",
       "      <td>Bruno Peinado</td>\n",
       "      <td>Bildender Künstler</td>\n",
       "      <td>réalisation: Thomas Lallier.</td>\n",
       "      <td>Bruno Peinado hat die plastische Kunst revolu...</td>\n",
       "      <td>119</td>\n",
       "    </tr>\n",
       "  </tbody>\n",
       "</table>\n",
       "<p>7448 rows × 5 columns</p>\n",
       "</div>"
      ],
      "text/plain": [
       "                                                 title1  \\\n",
       "0                                          Electric gir   \n",
       "1         Hans Hartung - malen so schnell wie der Blitz   \n",
       "2     Der   Fotograf Roger Melis - Chronist der Ostd...   \n",
       "3                                                   Ayk   \n",
       "4                                 The   unanswered Ives   \n",
       "...                                                 ...   \n",
       "7443   Jochen Roller  Let's dance! Lecture  performance   \n",
       "7444           Ai Weiwei - Stimmen gegen das Verstummen   \n",
       "7445                                  New York tomorrow   \n",
       "7446                                            Hostess   \n",
       "7447                                      Bruno Peinado   \n",
       "\n",
       "                                            title2  \\\n",
       "0                                             None   \n",
       "1             Hans Hartung - la fureur de peindre.   \n",
       "2                                             None   \n",
       "3                                             None   \n",
       "4     Wunderkind  Wall-Street-Gigant  Klangpionier   \n",
       "...                                            ...   \n",
       "7443                                          None   \n",
       "7444                                          None   \n",
       "7445                                          None   \n",
       "7446                                          None   \n",
       "7447                            Bildender Künstler   \n",
       "\n",
       "                                                 title3  \\\n",
       "0     ein Film von Ziska Riemann   Victoria Schulz  ...   \n",
       "1                                                  None   \n",
       "2                   Buch und Regie: Pamela Meyer-Arndt.   \n",
       "3     Regie: Sergey Dvortsevoy   Drehbuch: Sergey Dv...   \n",
       "4                       ein Film von Anne-Katrin Peitz.   \n",
       "...                                                 ...   \n",
       "7443        Konzept und Leitung: Gabriele Brandstetter.   \n",
       "7444                  ein Film von Birgit Adler-Conrad.   \n",
       "7445  réalisation: Yoann Le Gruiec. Scénario: Jean-M...   \n",
       "7446  ein Film von Rolf Römer. Mit: Annekathrin Bürg...   \n",
       "7447                       réalisation: Thomas Lallier.   \n",
       "\n",
       "                                                content  word_count  \n",
       "0     Eine frischgebackene Synchronsprecherin identi...          88  \n",
       "1     Er konnte malen so schnell wie der Blitz: Der ...         103  \n",
       "2     In seinen Reportagen zeigte Roger Melis den Al...          71  \n",
       "3     Eine illegal unter erbärmlichen Umständen in M...          88  \n",
       "4     8    # a \"Charles Ives (1874-1954) ist ein Man...         109  \n",
       "...                                                 ...         ...  \n",
       "7443  Jochen Roller  geboren 1971 in Berlin  studier...          90  \n",
       "7444  Der chinesische Künstler Ai Weiwei wurde im Fr...         141  \n",
       "7445  Die Webdokumentation \"New York 3.0\" gibt Inter...          55  \n",
       "7446  Eine Hostess  die seit zwei Jahren mit einem A...          58  \n",
       "7447   Bruno Peinado hat die plastische Kunst revolu...         119  \n",
       "\n",
       "[7448 rows x 5 columns]"
      ]
     },
     "execution_count": 59,
     "metadata": {},
     "output_type": "execute_result"
    }
   ],
   "source": [
    "df_movies = pd.read_pickle('../data/df_movies_cleaning_2.pkl')\n",
    "df_movies"
   ]
  },
  {
   "cell_type": "code",
   "execution_count": 60,
   "metadata": {},
   "outputs": [
    {
     "name": "stderr",
     "output_type": "stream",
     "text": [
      "C:\\Users\\Johannes\\Anaconda3\\lib\\site-packages\\ipykernel_launcher.py:22: FutureWarning: The pandas.np module is deprecated and will be removed from pandas in a future version. Import numpy directly instead\n"
     ]
    },
    {
     "data": {
      "text/html": [
       "<div>\n",
       "<style scoped>\n",
       "    .dataframe tbody tr th:only-of-type {\n",
       "        vertical-align: middle;\n",
       "    }\n",
       "\n",
       "    .dataframe tbody tr th {\n",
       "        vertical-align: top;\n",
       "    }\n",
       "\n",
       "    .dataframe thead th {\n",
       "        text-align: right;\n",
       "    }\n",
       "</style>\n",
       "<table border=\"1\" class=\"dataframe\">\n",
       "  <thead>\n",
       "    <tr style=\"text-align: right;\">\n",
       "      <th></th>\n",
       "      <th>title</th>\n",
       "      <th>author</th>\n",
       "      <th>content</th>\n",
       "      <th>medium</th>\n",
       "    </tr>\n",
       "  </thead>\n",
       "  <tbody>\n",
       "    <tr>\n",
       "      <th>0</th>\n",
       "      <td>Electric gir</td>\n",
       "      <td>ein Film von Ziska Riemann   Victoria Schulz  ...</td>\n",
       "      <td>eine frischgebackene synchronsprecherin identi...</td>\n",
       "      <td>movie</td>\n",
       "    </tr>\n",
       "    <tr>\n",
       "      <th>1</th>\n",
       "      <td>Hans Hartung - malen so schnell wie der Blitz</td>\n",
       "      <td>NaN</td>\n",
       "      <td>er konnte malen so schnell wie der blitz der k...</td>\n",
       "      <td>movie</td>\n",
       "    </tr>\n",
       "    <tr>\n",
       "      <th>2</th>\n",
       "      <td>Der   Fotograf Roger Melis - Chronist der Ostd...</td>\n",
       "      <td>Buch und Regie: Pamela Meyer-Arndt.</td>\n",
       "      <td>in seinen reportagen zeigte roger melis den al...</td>\n",
       "      <td>movie</td>\n",
       "    </tr>\n",
       "    <tr>\n",
       "      <th>3</th>\n",
       "      <td>Ayk</td>\n",
       "      <td>Regie: Sergey Dvortsevoy   Drehbuch: Sergey Dv...</td>\n",
       "      <td>eine illegal unter erbärmlichen umständen in m...</td>\n",
       "      <td>movie</td>\n",
       "    </tr>\n",
       "    <tr>\n",
       "      <th>4</th>\n",
       "      <td>The   unanswered Ives</td>\n",
       "      <td>ein Film von Anne-Katrin Peitz.</td>\n",
       "      <td>a charles ives ist ein mann der dissonanzen un...</td>\n",
       "      <td>movie</td>\n",
       "    </tr>\n",
       "  </tbody>\n",
       "</table>\n",
       "</div>"
      ],
      "text/plain": [
       "                                               title  \\\n",
       "0                                       Electric gir   \n",
       "1      Hans Hartung - malen so schnell wie der Blitz   \n",
       "2  Der   Fotograf Roger Melis - Chronist der Ostd...   \n",
       "3                                                Ayk   \n",
       "4                              The   unanswered Ives   \n",
       "\n",
       "                                              author  \\\n",
       "0  ein Film von Ziska Riemann   Victoria Schulz  ...   \n",
       "1                                                NaN   \n",
       "2                Buch und Regie: Pamela Meyer-Arndt.   \n",
       "3  Regie: Sergey Dvortsevoy   Drehbuch: Sergey Dv...   \n",
       "4                    ein Film von Anne-Katrin Peitz.   \n",
       "\n",
       "                                             content medium  \n",
       "0  eine frischgebackene synchronsprecherin identi...  movie  \n",
       "1  er konnte malen so schnell wie der blitz der k...  movie  \n",
       "2  in seinen reportagen zeigte roger melis den al...  movie  \n",
       "3  eine illegal unter erbärmlichen umständen in m...  movie  \n",
       "4  a charles ives ist ein mann der dissonanzen un...  movie  "
      ]
     },
     "execution_count": 60,
     "metadata": {},
     "output_type": "execute_result"
    }
   ],
   "source": [
    "# Removing non-alphabetical symbols in dataframe, keeping umlauts\n",
    "df_movies['content'] = df_movies['content'].replace('[^a-zA-Z \\äöüß]', '', regex=True).str.replace(' +',' ').str.strip()\n",
    "# Transform umlauts\n",
    "# df_movies['content'] = df_movies['content'].str.replace(chr(252), 'ue')\n",
    "# df_movies['content'] = df_movies['content'].str.replace(chr(228), 'ae')\n",
    "# df_movies['content'] = df_movies['content'].str.replace(chr(246), 'oe')\n",
    "# df_movies['content'] = df_movies['content'].str.replace(chr(196), 'Ae')\n",
    "# df_movies['content'] = df_movies['content'].str.replace(chr(214), 'Oe')\n",
    "# df_movies['content'] = df_movies['content'].str.replace(chr(220), 'Ue')\n",
    "# df_movies['content'] = df_movies['content'].str.replace(chr(223), 'ss')\n",
    "# Lowercase\n",
    "df_movies['content'] = df_movies['content'].str.lower()\n",
    "# rename collumn\n",
    "df_movies.rename(columns={'title1': 'title'}, inplace=True)\n",
    "df_movies.rename(columns={'title3': 'author'}, inplace=True)\n",
    "# drop collumn\n",
    "df_movies.drop(['word_count'],1,inplace=True)\n",
    "df_movies.drop(['title2'],1,inplace=True)\n",
    "# add label collumn\n",
    "df_movies['medium'] ='movie'\n",
    "# add nan\n",
    "df_movies.fillna(value=pd.np.nan, inplace=True)\n",
    "df_movies.head()"
   ]
  },
  {
   "cell_type": "code",
   "execution_count": 61,
   "metadata": {},
   "outputs": [],
   "source": [
    "# drop nan in ['content']\n",
    "df_movies = df_movies[df_movies['content'].notna()]"
   ]
  },
  {
   "cell_type": "code",
   "execution_count": 62,
   "metadata": {},
   "outputs": [
    {
     "data": {
      "text/html": [
       "<div>\n",
       "<style scoped>\n",
       "    .dataframe tbody tr th:only-of-type {\n",
       "        vertical-align: middle;\n",
       "    }\n",
       "\n",
       "    .dataframe tbody tr th {\n",
       "        vertical-align: top;\n",
       "    }\n",
       "\n",
       "    .dataframe thead th {\n",
       "        text-align: right;\n",
       "    }\n",
       "</style>\n",
       "<table border=\"1\" class=\"dataframe\">\n",
       "  <thead>\n",
       "    <tr style=\"text-align: right;\">\n",
       "      <th></th>\n",
       "      <th>author</th>\n",
       "      <th>title</th>\n",
       "      <th>class</th>\n",
       "      <th>content</th>\n",
       "      <th>word_count</th>\n",
       "      <th>Languagereview</th>\n",
       "      <th>medium</th>\n",
       "    </tr>\n",
       "  </thead>\n",
       "  <tbody>\n",
       "    <tr>\n",
       "      <th>0</th>\n",
       "      <td>NaN</td>\n",
       "      <td>Aernout Mik - Communitas</td>\n",
       "      <td>[Kunstgeschichte]</td>\n",
       "      <td>aernout mik zählt zu den wichtigsten künstlern...</td>\n",
       "      <td>64</td>\n",
       "      <td>de</td>\n",
       "      <td>print</td>\n",
       "    </tr>\n",
       "    <tr>\n",
       "      <th>1</th>\n",
       "      <td>NaN</td>\n",
       "      <td>Anton Henning  : Dt. /Engl.</td>\n",
       "      <td>NaN</td>\n",
       "      <td>die vorliegende publikation widmet sich drei o...</td>\n",
       "      <td>113</td>\n",
       "      <td>de</td>\n",
       "      <td>print</td>\n",
       "    </tr>\n",
       "    <tr>\n",
       "      <th>2</th>\n",
       "      <td>Specht, Heike</td>\n",
       "      <td>Die Feuchtwangers  : Familie, Tradition und j...</td>\n",
       "      <td>[Sprachwissenschaften, Geschichte]</td>\n",
       "      <td>jahre geschichte deutschjüdischen bürgertums a...</td>\n",
       "      <td>169</td>\n",
       "      <td>de</td>\n",
       "      <td>print</td>\n",
       "    </tr>\n",
       "    <tr>\n",
       "      <th>3</th>\n",
       "      <td>Scruton, Roger</td>\n",
       "      <td>Grüne Philosophie  : Ein konservativer Denkan...</td>\n",
       "      <td>[Allgemeines, Philosophie, Theologie und Relig...</td>\n",
       "      <td>der umweltschutz liegt herkömmlich im hoheitsg...</td>\n",
       "      <td>101</td>\n",
       "      <td>de</td>\n",
       "      <td>print</td>\n",
       "    </tr>\n",
       "    <tr>\n",
       "      <th>4</th>\n",
       "      <td>Schlagowski, Heinz</td>\n",
       "      <td>Technische Dokumentation im Maschinen- und An...</td>\n",
       "      <td>[Technik]</td>\n",
       "      <td>das buch gibt dem anwender die entscheidenden ...</td>\n",
       "      <td>156</td>\n",
       "      <td>de</td>\n",
       "      <td>print</td>\n",
       "    </tr>\n",
       "  </tbody>\n",
       "</table>\n",
       "</div>"
      ],
      "text/plain": [
       "               author                                              title  \\\n",
       "0                 NaN                          Aernout Mik - Communitas    \n",
       "1                 NaN                       Anton Henning  : Dt. /Engl.    \n",
       "2       Specht, Heike   Die Feuchtwangers  : Familie, Tradition und j...   \n",
       "3      Scruton, Roger   Grüne Philosophie  : Ein konservativer Denkan...   \n",
       "4  Schlagowski, Heinz   Technische Dokumentation im Maschinen- und An...   \n",
       "\n",
       "                                               class  \\\n",
       "0                                  [Kunstgeschichte]   \n",
       "1                                                NaN   \n",
       "2                 [Sprachwissenschaften, Geschichte]   \n",
       "3  [Allgemeines, Philosophie, Theologie und Relig...   \n",
       "4                                          [Technik]   \n",
       "\n",
       "                                             content  word_count  \\\n",
       "0  aernout mik zählt zu den wichtigsten künstlern...          64   \n",
       "1  die vorliegende publikation widmet sich drei o...         113   \n",
       "2  jahre geschichte deutschjüdischen bürgertums a...         169   \n",
       "3  der umweltschutz liegt herkömmlich im hoheitsg...         101   \n",
       "4  das buch gibt dem anwender die entscheidenden ...         156   \n",
       "\n",
       "  Languagereview medium  \n",
       "0             de  print  \n",
       "1             de  print  \n",
       "2             de  print  \n",
       "3             de  print  \n",
       "4             de  print  "
      ]
     },
     "execution_count": 62,
     "metadata": {},
     "output_type": "execute_result"
    }
   ],
   "source": [
    "# Removing non-alphabetical symbols in dataframe, keeping umlauts\n",
    "df['content'] = df['content'].replace('[^a-zA-Z \\äöüß]', '', regex=True).str.replace(' +',' ').str.strip()\n",
    "# Transform umlauts\n",
    "# df['content'] = df['content'].str.replace(chr(252), 'ue')\n",
    "# df['content'] = df['content'].str.replace(chr(228), 'ae')\n",
    "# df['content'] = df['content'].str.replace(chr(246), 'oe')\n",
    "# df['content'] = df['content'].str.replace(chr(196), 'Ae')\n",
    "# df['content'] = df['content'].str.replace(chr(214), 'Oe')\n",
    "# df['content'] = df['content'].str.replace(chr(220), 'Ue')\n",
    "# df['content'] = df['content'].str.replace(chr(223), 'ss')\n",
    "# Lowercase\n",
    "df['content'] = df['content'].str.lower()\n",
    "# add label collumn\n",
    "df['medium'] ='print'\n",
    "df.head()"
   ]
  },
  {
   "cell_type": "code",
   "execution_count": 63,
   "metadata": {},
   "outputs": [],
   "source": [
    "# drop nan in ['content']\n",
    "df = df[df['content'].notna()]"
   ]
  },
  {
   "cell_type": "markdown",
   "metadata": {},
   "source": [
    "<h1>Combining content</h1>"
   ]
  },
  {
   "cell_type": "code",
   "execution_count": 64,
   "metadata": {},
   "outputs": [],
   "source": [
    "df['title'] = df['title'].str.split('  / von').str[0]\n",
    "df['title'] = df['title'].str.replace('[^\\w\\s]','')\n",
    "df['title'] = df['title'].replace('\\s+', ' ', regex=True)\n",
    "df['title'] = df['title'].str.lower()"
   ]
  },
  {
   "cell_type": "code",
   "execution_count": 65,
   "metadata": {},
   "outputs": [],
   "source": [
    "df['author'] = df['author'].str.split('  / von').str[0]\n",
    "df['author'] = df['author'].str.replace('[^\\w\\s]','')\n",
    "df['author'] = df['author'].replace('\\s+', ' ', regex=True)\n",
    "df['author'] = df['author'].str.lower()"
   ]
  },
  {
   "cell_type": "code",
   "execution_count": 66,
   "metadata": {},
   "outputs": [],
   "source": [
    "df_combined = df.copy()\n",
    "df_combined.drop(['class','word_count', 'Languagereview'],axis=1, inplace=True)\n",
    "df_combined.replace(np.nan, '', regex=True, inplace=True)\n",
    "df_combined.replace('\\s+', ' ', regex=True, inplace=True)\n",
    "\n",
    "df_combined['content_nltk'] = df_combined['title'] +\" \"+ df_combined['content']\n",
    "df_combined['content_nltk'] = df_combined['content_nltk'].str.strip()\n",
    "\n",
    "df_movies['title'] = df_movies['title'].str.lower()\n",
    "\n",
    "df_movies['content_nltk'] = df_movies['title'] +\" \"+ df_movies['content']\n",
    "df_movies['content_nltk'] = df_movies['content_nltk'].str.strip()\n",
    "\n",
    "# df['content_nltk'] = df_combined\n",
    "# df_movies['content_nltk'] = df_movies_combined\n",
    "\n",
    "# whitespaces to nan\n",
    "df_combined = df_combined.replace(r'^\\s*$', np.nan, regex=True)"
   ]
  },
  {
   "cell_type": "code",
   "execution_count": 67,
   "metadata": {},
   "outputs": [
    {
     "data": {
      "text/html": [
       "<div>\n",
       "<style scoped>\n",
       "    .dataframe tbody tr th:only-of-type {\n",
       "        vertical-align: middle;\n",
       "    }\n",
       "\n",
       "    .dataframe tbody tr th {\n",
       "        vertical-align: top;\n",
       "    }\n",
       "\n",
       "    .dataframe thead th {\n",
       "        text-align: right;\n",
       "    }\n",
       "</style>\n",
       "<table border=\"1\" class=\"dataframe\">\n",
       "  <thead>\n",
       "    <tr style=\"text-align: right;\">\n",
       "      <th></th>\n",
       "      <th>title</th>\n",
       "      <th>author</th>\n",
       "      <th>content_nltk</th>\n",
       "      <th>medium</th>\n",
       "    </tr>\n",
       "  </thead>\n",
       "  <tbody>\n",
       "    <tr>\n",
       "      <th>0</th>\n",
       "      <td>aernout mik communitas</td>\n",
       "      <td>NaN</td>\n",
       "      <td>aernout mik communitas aernout mik zählt zu de...</td>\n",
       "      <td>print</td>\n",
       "    </tr>\n",
       "    <tr>\n",
       "      <th>1</th>\n",
       "      <td>anton henning dt engl</td>\n",
       "      <td>NaN</td>\n",
       "      <td>anton henning dt engl die vorliegende publikat...</td>\n",
       "      <td>print</td>\n",
       "    </tr>\n",
       "    <tr>\n",
       "      <th>2</th>\n",
       "      <td>die feuchtwangers familie tradition und jüdis...</td>\n",
       "      <td>specht heike</td>\n",
       "      <td>die feuchtwangers familie tradition und jüdisc...</td>\n",
       "      <td>print</td>\n",
       "    </tr>\n",
       "    <tr>\n",
       "      <th>3</th>\n",
       "      <td>grüne philosophie ein konservativer denkansatz</td>\n",
       "      <td>scruton roger</td>\n",
       "      <td>grüne philosophie ein konservativer denkansatz...</td>\n",
       "      <td>print</td>\n",
       "    </tr>\n",
       "    <tr>\n",
       "      <th>4</th>\n",
       "      <td>technische dokumentation im maschinen und anl...</td>\n",
       "      <td>schlagowski heinz</td>\n",
       "      <td>technische dokumentation im maschinen und anla...</td>\n",
       "      <td>print</td>\n",
       "    </tr>\n",
       "    <tr>\n",
       "      <th>...</th>\n",
       "      <td>...</td>\n",
       "      <td>...</td>\n",
       "      <td>...</td>\n",
       "      <td>...</td>\n",
       "    </tr>\n",
       "    <tr>\n",
       "      <th>25585</th>\n",
       "      <td>jochen roller  let's dance! lecture  performance</td>\n",
       "      <td>Konzept und Leitung: Gabriele Brandstetter.</td>\n",
       "      <td>jochen roller  let's dance! lecture  performan...</td>\n",
       "      <td>movie</td>\n",
       "    </tr>\n",
       "    <tr>\n",
       "      <th>25586</th>\n",
       "      <td>ai weiwei - stimmen gegen das verstummen</td>\n",
       "      <td>ein Film von Birgit Adler-Conrad.</td>\n",
       "      <td>ai weiwei - stimmen gegen das verstummen der c...</td>\n",
       "      <td>movie</td>\n",
       "    </tr>\n",
       "    <tr>\n",
       "      <th>25587</th>\n",
       "      <td>new york tomorrow</td>\n",
       "      <td>réalisation: Yoann Le Gruiec. Scénario: Jean-M...</td>\n",
       "      <td>new york tomorrow die webdokumentation new yor...</td>\n",
       "      <td>movie</td>\n",
       "    </tr>\n",
       "    <tr>\n",
       "      <th>25588</th>\n",
       "      <td>hostess</td>\n",
       "      <td>ein Film von Rolf Römer. Mit: Annekathrin Bürg...</td>\n",
       "      <td>hostess eine hostess die seit zwei jahren mit ...</td>\n",
       "      <td>movie</td>\n",
       "    </tr>\n",
       "    <tr>\n",
       "      <th>25589</th>\n",
       "      <td>bruno peinado</td>\n",
       "      <td>réalisation: Thomas Lallier.</td>\n",
       "      <td>bruno peinado bruno peinado hat die plastische...</td>\n",
       "      <td>movie</td>\n",
       "    </tr>\n",
       "  </tbody>\n",
       "</table>\n",
       "<p>25590 rows × 4 columns</p>\n",
       "</div>"
      ],
      "text/plain": [
       "                                                   title  \\\n",
       "0                                aernout mik communitas    \n",
       "1                                 anton henning dt engl    \n",
       "2       die feuchtwangers familie tradition und jüdis...   \n",
       "3         grüne philosophie ein konservativer denkansatz   \n",
       "4       technische dokumentation im maschinen und anl...   \n",
       "...                                                  ...   \n",
       "25585   jochen roller  let's dance! lecture  performance   \n",
       "25586           ai weiwei - stimmen gegen das verstummen   \n",
       "25587                                  new york tomorrow   \n",
       "25588                                            hostess   \n",
       "25589                                      bruno peinado   \n",
       "\n",
       "                                                  author  \\\n",
       "0                                                    NaN   \n",
       "1                                                    NaN   \n",
       "2                                           specht heike   \n",
       "3                                          scruton roger   \n",
       "4                                      schlagowski heinz   \n",
       "...                                                  ...   \n",
       "25585        Konzept und Leitung: Gabriele Brandstetter.   \n",
       "25586                  ein Film von Birgit Adler-Conrad.   \n",
       "25587  réalisation: Yoann Le Gruiec. Scénario: Jean-M...   \n",
       "25588  ein Film von Rolf Römer. Mit: Annekathrin Bürg...   \n",
       "25589                       réalisation: Thomas Lallier.   \n",
       "\n",
       "                                            content_nltk medium  \n",
       "0      aernout mik communitas aernout mik zählt zu de...  print  \n",
       "1      anton henning dt engl die vorliegende publikat...  print  \n",
       "2      die feuchtwangers familie tradition und jüdisc...  print  \n",
       "3      grüne philosophie ein konservativer denkansatz...  print  \n",
       "4      technische dokumentation im maschinen und anla...  print  \n",
       "...                                                  ...    ...  \n",
       "25585  jochen roller  let's dance! lecture  performan...  movie  \n",
       "25586  ai weiwei - stimmen gegen das verstummen der c...  movie  \n",
       "25587  new york tomorrow die webdokumentation new yor...  movie  \n",
       "25588  hostess eine hostess die seit zwei jahren mit ...  movie  \n",
       "25589  bruno peinado bruno peinado hat die plastische...  movie  \n",
       "\n",
       "[25590 rows x 4 columns]"
      ]
     },
     "execution_count": 67,
     "metadata": {},
     "output_type": "execute_result"
    }
   ],
   "source": [
    "df_combined.replace('\\s+', ' ', regex=True, inplace=True)\n",
    "df_combined = pd.concat([df_combined, df_movies])\n",
    "df_combined.reset_index(inplace=True,drop=True)\n",
    "df_combined = df_combined[['title','author','content_nltk','medium']]\n",
    "df_combined"
   ]
  },
  {
   "cell_type": "markdown",
   "metadata": {},
   "source": [
    "<h1>Remove Stop Words</h1>"
   ]
  },
  {
   "cell_type": "code",
   "execution_count": 68,
   "metadata": {},
   "outputs": [
    {
     "data": {
      "text/plain": [
       "'grüne philosophie konservativer denkansatz umweltschutz liegt herkömmlich hoheitsgebiet politischen linken bedrohung natur zufolge internationalen kapitalismus konsumverhalten unbegrenzten ausbeutung natürlicher ressourcen zuzuschreiben roger scruton entblößt grundverständnis gefährlichen trugschluss zerstörerisch kosysteme wirkt denen zukunft abhängt konservative denker würdigt traditionelle prinzipien offensichtlichste wirksamste mittel erhalt planeten sichern lokalismus bürgerverantwortung schlagen dabei bemühungen schwerfälliger nichtregierungsorganisationen internationaler komitees zukunft mitnichten gesichert roger scruton beweist gedankenreichen schrift fortbestand kosystems erde möglich'"
      ]
     },
     "execution_count": 68,
     "metadata": {},
     "output_type": "execute_result"
    }
   ],
   "source": [
    "from nltk.corpus import stopwords\n",
    "stop = stopwords.words('german')\n",
    "\n",
    "df_combined['content_nltk'] = df_combined['content_nltk'].apply(lambda x: ' '.join([word for word in x.split() if word not in (stop)]))\n",
    "df_combined['content_nltk'].iloc[3]"
   ]
  },
  {
   "cell_type": "markdown",
   "metadata": {},
   "source": [
    "<h1>Tokenizing</h1>"
   ]
  },
  {
   "cell_type": "code",
   "execution_count": 69,
   "metadata": {},
   "outputs": [
    {
     "data": {
      "text/plain": [
       "0        aernout mik communitas aernout mik zählt wicht...\n",
       "1        anton henning dt engl vorliegende publikation ...\n",
       "2        feuchtwangers familie tradition jüdisches selb...\n",
       "3        grüne philosophie konservativer denkansatz umw...\n",
       "4        technische dokumentation maschinen anlagenbau ...\n",
       "                               ...                        \n",
       "25585    jochen roller let's dance! lecture performance...\n",
       "25586    ai weiwei - stimmen verstummen chinesische kün...\n",
       "25587    new york tomorrow webdokumentation new york gi...\n",
       "25588    hostess hostess seit zwei jahren automechanike...\n",
       "25589    bruno peinado bruno peinado plastische kunst r...\n",
       "Name: content_nltk, Length: 25590, dtype: object"
      ]
     },
     "execution_count": 69,
     "metadata": {},
     "output_type": "execute_result"
    }
   ],
   "source": [
    "df_tok = df_combined['content_nltk']\n",
    "df_tok"
   ]
  },
  {
   "cell_type": "code",
   "execution_count": 70,
   "metadata": {},
   "outputs": [],
   "source": [
    "tokenized = [ nltk.word_tokenize( str(sentence), language='german' ) for sentence in df_tok ]"
   ]
  },
  {
   "cell_type": "code",
   "execution_count": 71,
   "metadata": {},
   "outputs": [
    {
     "name": "stdout",
     "output_type": "stream",
     "text": [
      "25590\n"
     ]
    }
   ],
   "source": [
    "print (len(tokenized))"
   ]
  },
  {
   "cell_type": "markdown",
   "metadata": {},
   "source": [
    "<h1>Lemmetization</h1>"
   ]
  },
  {
   "cell_type": "code",
   "execution_count": 72,
   "metadata": {},
   "outputs": [],
   "source": [
    "from HanTa import HanoverTagger as ht\n",
    "\n",
    "tagger = ht.HanoverTagger('morphmodel_ger.pgz')"
   ]
  },
  {
   "cell_type": "code",
   "execution_count": 73,
   "metadata": {},
   "outputs": [
    {
     "name": "stderr",
     "output_type": "stream",
     "text": [
      "100%|████████████████████████████████████████████████████████████████████████████| 25590/25590 [38:00<00:00, 11.22it/s]\n"
     ]
    }
   ],
   "source": [
    "words_lematized = []\n",
    "for inner_list in tqdm(tokenized):\n",
    "  temp = []\n",
    "  for word in inner_list:\n",
    "    temp.append(tagger.analyze(word))\n",
    "  words_lematized.append(temp)    "
   ]
  },
  {
   "cell_type": "code",
   "execution_count": 74,
   "metadata": {
    "scrolled": true
   },
   "outputs": [
    {
     "data": {
      "text/plain": [
       "[('radikal', 'ADJA'),\n",
       " ('Innovation', 'NN'),\n",
       " ('Mobilität', 'NN'),\n",
       " ('technisch', 'ADJA'),\n",
       " ('betriebswirtschaftlich', 'ADJA'),\n",
       " ('Aspekt', 'NN'),\n",
       " ('radikal', 'ADJA'),\n",
       " ('Innovation', 'NN'),\n",
       " ('insbesondere', 'ADV'),\n",
       " ('Bergang', 'NN'),\n",
       " ('Elektromobilität', 'NN'),\n",
       " ('stellen', 'VVINF'),\n",
       " ('Wissenschaft', 'NN'),\n",
       " ('Wirtschaft', 'NN'),\n",
       " ('groß', 'ADJA'),\n",
       " ('Herausforderung', 'NN'),\n",
       " ('Bedarf', 'NN'),\n",
       " ('konsequent', 'ADJA'),\n",
       " ('koordiniert', 'ADJA'),\n",
       " ('Anstrengung', 'NN'),\n",
       " ('Schnittstelle', 'NN'),\n",
       " ('betriebswirtschaftlich', 'ADJA'),\n",
       " ('Ingenieurwissenschaftlichen', 'NN'),\n",
       " ('Forschung', 'NN'),\n",
       " ('umsetzen', 'VVIZU'),\n",
       " ('Juni', 'NN'),\n",
       " ('werden', 'VAFIN'),\n",
       " ('Duisburg', 'NE'),\n",
       " ('darüber', 'PROAV'),\n",
       " ('diskutieren', 'VVFIN'),\n",
       " ('Innovation', 'NN'),\n",
       " ('erforderlich', 'ADJD'),\n",
       " ('steueren', 'VVPP'),\n",
       " ('Mobilitätsstrategie', 'NN'),\n",
       " ('erwartet', 'ADJD'),\n",
       " ('Tagungsband', 'NN'),\n",
       " ('präsentieren', 'VVFIN'),\n",
       " ('Beitrag', 'NN'),\n",
       " ('Wissenschaftsforum', 'NN'),\n",
       " ('Mobilität', 'NN'),\n",
       " ('Universität', 'NN'),\n",
       " ('Duisburgessen', 'NN')]"
      ]
     },
     "execution_count": 74,
     "metadata": {},
     "output_type": "execute_result"
    }
   ],
   "source": [
    "words_lematized[666]"
   ]
  },
  {
   "cell_type": "code",
   "execution_count": 75,
   "metadata": {},
   "outputs": [],
   "source": [
    "with open('../data/after_nltk/data_movies_content_after_nltk.pkl', 'wb') as f:\n",
    "    pickle.dump(words_lematized, f)"
   ]
  },
  {
   "cell_type": "code",
   "execution_count": 90,
   "metadata": {},
   "outputs": [
    {
     "name": "stdout",
     "output_type": "stream",
     "text": [
      "25590\n"
     ]
    }
   ],
   "source": [
    "with open('../data/after_nltk/data_movies_content_after_nltk.pkl', 'rb') as f:\n",
    "    words_lematized_imp = pickle.load(f)\n",
    "print(len(words_lematized_imp))"
   ]
  },
  {
   "cell_type": "code",
   "execution_count": 91,
   "metadata": {},
   "outputs": [],
   "source": [
    "# filterning the words according to their POS type\n",
    "\n",
    "# words_lematized_filt = []\n",
    "\n",
    "# for i in words_lematized:\n",
    "#     temp = [j[0] for j in i if j[1].startswith((\"NE\", \"NN\", \"VVFIN\", \"ADJD\"))]\n",
    "#     words_lematized_filt.append(temp)\n",
    "    \n",
    "# POS tagger list\n",
    "# https://medium.com/@muddaprince456/categorizing-and-pos-tagging-with-nltk-python-28f2bc9312c3\n"
   ]
  },
  {
   "cell_type": "code",
   "execution_count": 92,
   "metadata": {},
   "outputs": [],
   "source": [
    "# droping POS tags\n",
    "\n",
    "words_lematized_2 = []\n",
    "for inner_list in words_lematized_imp:\n",
    "  temp = []\n",
    "  for word in inner_list:\n",
    "    temp.append(word[0])\n",
    "  words_lematized_2.append(temp)"
   ]
  },
  {
   "cell_type": "code",
   "execution_count": 93,
   "metadata": {},
   "outputs": [
    {
     "name": "stdout",
     "output_type": "stream",
     "text": [
      "25590\n"
     ]
    }
   ],
   "source": [
    "print (len(words_lematized_2))"
   ]
  },
  {
   "cell_type": "code",
   "execution_count": 94,
   "metadata": {},
   "outputs": [],
   "source": [
    "# # ä\n",
    "# words_lematized_3 = []\n",
    "# for inner_list in words_lematized_2:\n",
    "#   temp = []\n",
    "#   for word in inner_list:\n",
    "#     temp.append(word.replace('ä', 'ae'))\n",
    "#   words_lematized_3.append(temp)"
   ]
  },
  {
   "cell_type": "code",
   "execution_count": 95,
   "metadata": {},
   "outputs": [],
   "source": [
    "# # Transforming Umlauts\n",
    "# words_lematized_3 = []\n",
    "# for inner_list in words_lematized_2:\n",
    "#   temp = []\n",
    "#   for word in inner_list:\n",
    "#     temp.append(word.replace('ä', 'ae').replace(chr(246), 'oe').replace(chr(252), 'ue').replace(chr(223), 'ss').replace(chr(220), 'Ue').replace(chr(196), 'Ae').replace(chr(214), 'Oe').lower())\n",
    "#   words_lematized_3.append(temp)"
   ]
  },
  {
   "cell_type": "code",
   "execution_count": 96,
   "metadata": {},
   "outputs": [],
   "source": [
    "# lower case\n",
    "words_lematized_3 = []\n",
    "for inner_list in words_lematized_2:\n",
    "  temp = []\n",
    "  for word in inner_list:\n",
    "    temp.append(word.lower())\n",
    "  words_lematized_3.append(temp)"
   ]
  },
  {
   "cell_type": "code",
   "execution_count": 102,
   "metadata": {},
   "outputs": [],
   "source": [
    "df_combined['content_nltk'] = pd.Series(words_lematized_3)"
   ]
  },
  {
   "cell_type": "code",
   "execution_count": 103,
   "metadata": {},
   "outputs": [
    {
     "name": "stdout",
     "output_type": "stream",
     "text": [
      "0\n",
      "(25590, 4)\n"
     ]
    }
   ],
   "source": [
    "print(df_combined['content_nltk'].isnull().sum().sum())\n",
    "print(df_combined.shape)"
   ]
  },
  {
   "cell_type": "code",
   "execution_count": 104,
   "metadata": {},
   "outputs": [
    {
     "data": {
      "text/html": [
       "<div>\n",
       "<style scoped>\n",
       "    .dataframe tbody tr th:only-of-type {\n",
       "        vertical-align: middle;\n",
       "    }\n",
       "\n",
       "    .dataframe tbody tr th {\n",
       "        vertical-align: top;\n",
       "    }\n",
       "\n",
       "    .dataframe thead th {\n",
       "        text-align: right;\n",
       "    }\n",
       "</style>\n",
       "<table border=\"1\" class=\"dataframe\">\n",
       "  <thead>\n",
       "    <tr style=\"text-align: right;\">\n",
       "      <th></th>\n",
       "      <th>title</th>\n",
       "      <th>author</th>\n",
       "      <th>content_nltk</th>\n",
       "      <th>medium</th>\n",
       "    </tr>\n",
       "  </thead>\n",
       "  <tbody>\n",
       "    <tr>\n",
       "      <th>0</th>\n",
       "      <td>aernout mik communitas</td>\n",
       "      <td>NaN</td>\n",
       "      <td>[aernout, mik, communitas, aernout, mik, zähle...</td>\n",
       "      <td>print</td>\n",
       "    </tr>\n",
       "    <tr>\n",
       "      <th>1</th>\n",
       "      <td>anton henning dt engl</td>\n",
       "      <td>NaN</td>\n",
       "      <td>[anton, henning, dt, engl, vorliegend, publika...</td>\n",
       "      <td>print</td>\n",
       "    </tr>\n",
       "    <tr>\n",
       "      <th>2</th>\n",
       "      <td>die feuchtwangers familie tradition und jüdis...</td>\n",
       "      <td>specht heike</td>\n",
       "      <td>[feuchtwanger, familie, tradition, jüdisch, se...</td>\n",
       "      <td>print</td>\n",
       "    </tr>\n",
       "    <tr>\n",
       "      <th>3</th>\n",
       "      <td>grüne philosophie ein konservativer denkansatz</td>\n",
       "      <td>scruton roger</td>\n",
       "      <td>[grüne, philosophie, konservativ, denkansatz, ...</td>\n",
       "      <td>print</td>\n",
       "    </tr>\n",
       "    <tr>\n",
       "      <th>4</th>\n",
       "      <td>technische dokumentation im maschinen und anl...</td>\n",
       "      <td>schlagowski heinz</td>\n",
       "      <td>[technisch, dokumentation, maschine, anlagenba...</td>\n",
       "      <td>print</td>\n",
       "    </tr>\n",
       "    <tr>\n",
       "      <th>5</th>\n",
       "      <td>geotechnik bodenmechanik</td>\n",
       "      <td>möller gerd</td>\n",
       "      <td>[geotechnik, bodenmechanik, buch, vermitteln, ...</td>\n",
       "      <td>print</td>\n",
       "    </tr>\n",
       "    <tr>\n",
       "      <th>6</th>\n",
       "      <td>farben natur technik kunst</td>\n",
       "      <td>welsch norbert</td>\n",
       "      <td>[farbe, natur, technik, kunst, farbe, auflage,...</td>\n",
       "      <td>print</td>\n",
       "    </tr>\n",
       "    <tr>\n",
       "      <th>7</th>\n",
       "      <td>geotechnik grundbau</td>\n",
       "      <td>möller gerd</td>\n",
       "      <td>[geotechnik, grundbau, komplex, technisch, hoc...</td>\n",
       "      <td>print</td>\n",
       "    </tr>\n",
       "    <tr>\n",
       "      <th>8</th>\n",
       "      <td>einführung in die ölhydraulik ehem unter reni...</td>\n",
       "      <td>matthies hans jürgen</td>\n",
       "      <td>[einführung, ölhydraulik, eher, renius, karl, ...</td>\n",
       "      <td>print</td>\n",
       "    </tr>\n",
       "    <tr>\n",
       "      <th>9</th>\n",
       "      <td>trust but test das vertrauen in virtuellen ge...</td>\n",
       "      <td>thiedeke udo</td>\n",
       "      <td>[trust, but, test, vertrauen, virtuell, gemein...</td>\n",
       "      <td>print</td>\n",
       "    </tr>\n",
       "    <tr>\n",
       "      <th>10</th>\n",
       "      <td>handbuch theorien und methoden der raum und u...</td>\n",
       "      <td>NaN</td>\n",
       "      <td>[handbuch, theorie, methode, raum, umweltplanu...</td>\n",
       "      <td>print</td>\n",
       "    </tr>\n",
       "    <tr>\n",
       "      <th>11</th>\n",
       "      <td>stadt land gender einführung in feministische...</td>\n",
       "      <td>fleischmann katharina</td>\n",
       "      <td>[stadt, land, gender, einführung, feministisch...</td>\n",
       "      <td>print</td>\n",
       "    </tr>\n",
       "    <tr>\n",
       "      <th>12</th>\n",
       "      <td>bildungsberatung orientierung offenheit quali...</td>\n",
       "      <td>NaN</td>\n",
       "      <td>[bildungsberatung, orientierung, offenheit, qu...</td>\n",
       "      <td>print</td>\n",
       "    </tr>\n",
       "    <tr>\n",
       "      <th>13</th>\n",
       "      <td>literatur und fotografie analysen eines inter...</td>\n",
       "      <td>hillenbach annekathrin</td>\n",
       "      <td>[literatur, fotografie, analyse, intermedialen...</td>\n",
       "      <td>print</td>\n",
       "    </tr>\n",
       "    <tr>\n",
       "      <th>14</th>\n",
       "      <td>datendesign mit r 100 visualisierungsbeispiele</td>\n",
       "      <td>rahlf thomas</td>\n",
       "      <td>[datendesign, r, 100, visualisierungsbeispiele...</td>\n",
       "      <td>print</td>\n",
       "    </tr>\n",
       "    <tr>\n",
       "      <th>15</th>\n",
       "      <td>sprachhandlungskoordination in der chatkommun...</td>\n",
       "      <td>beißwenger michael</td>\n",
       "      <td>[sprachhandlungskoordination, chatkommunikatio...</td>\n",
       "      <td>print</td>\n",
       "    </tr>\n",
       "    <tr>\n",
       "      <th>16</th>\n",
       "      <td>warum sank die titanic wirklich neue forensis...</td>\n",
       "      <td>mccarty jennifer hooper</td>\n",
       "      <td>[warum, sinken, titanic, wirklich, neu, forens...</td>\n",
       "      <td>print</td>\n",
       "    </tr>\n",
       "    <tr>\n",
       "      <th>17</th>\n",
       "      <td>das gehirn ein beziehungsorgan eine phänomeno...</td>\n",
       "      <td>fuchs thomas</td>\n",
       "      <td>[gehirn, beziehungsorgan, phänomenologischökol...</td>\n",
       "      <td>print</td>\n",
       "    </tr>\n",
       "    <tr>\n",
       "      <th>18</th>\n",
       "      <td>spacecraft fleeting architecture and hideouts</td>\n",
       "      <td>NaN</td>\n",
       "      <td>[spacecraft, fleeting, architecture, and, hide...</td>\n",
       "      <td>print</td>\n",
       "    </tr>\n",
       "    <tr>\n",
       "      <th>19</th>\n",
       "      <td>wissen und bildung in der antiken philosophie</td>\n",
       "      <td>NaN</td>\n",
       "      <td>[wissen, bildung, antik, philosophie, wissen, ...</td>\n",
       "      <td>print</td>\n",
       "    </tr>\n",
       "  </tbody>\n",
       "</table>\n",
       "</div>"
      ],
      "text/plain": [
       "                                                title  \\\n",
       "0                             aernout mik communitas    \n",
       "1                              anton henning dt engl    \n",
       "2    die feuchtwangers familie tradition und jüdis...   \n",
       "3      grüne philosophie ein konservativer denkansatz   \n",
       "4    technische dokumentation im maschinen und anl...   \n",
       "5                            geotechnik bodenmechanik   \n",
       "6                          farben natur technik kunst   \n",
       "7                                 geotechnik grundbau   \n",
       "8    einführung in die ölhydraulik ehem unter reni...   \n",
       "9    trust but test das vertrauen in virtuellen ge...   \n",
       "10   handbuch theorien und methoden der raum und u...   \n",
       "11   stadt land gender einführung in feministische...   \n",
       "12   bildungsberatung orientierung offenheit quali...   \n",
       "13   literatur und fotografie analysen eines inter...   \n",
       "14     datendesign mit r 100 visualisierungsbeispiele   \n",
       "15   sprachhandlungskoordination in der chatkommun...   \n",
       "16   warum sank die titanic wirklich neue forensis...   \n",
       "17   das gehirn ein beziehungsorgan eine phänomeno...   \n",
       "18     spacecraft fleeting architecture and hideouts    \n",
       "19     wissen und bildung in der antiken philosophie    \n",
       "\n",
       "                     author  \\\n",
       "0                       NaN   \n",
       "1                       NaN   \n",
       "2              specht heike   \n",
       "3             scruton roger   \n",
       "4         schlagowski heinz   \n",
       "5               möller gerd   \n",
       "6            welsch norbert   \n",
       "7               möller gerd   \n",
       "8      matthies hans jürgen   \n",
       "9              thiedeke udo   \n",
       "10                      NaN   \n",
       "11    fleischmann katharina   \n",
       "12                      NaN   \n",
       "13   hillenbach annekathrin   \n",
       "14             rahlf thomas   \n",
       "15       beißwenger michael   \n",
       "16  mccarty jennifer hooper   \n",
       "17             fuchs thomas   \n",
       "18                      NaN   \n",
       "19                      NaN   \n",
       "\n",
       "                                         content_nltk medium  \n",
       "0   [aernout, mik, communitas, aernout, mik, zähle...  print  \n",
       "1   [anton, henning, dt, engl, vorliegend, publika...  print  \n",
       "2   [feuchtwanger, familie, tradition, jüdisch, se...  print  \n",
       "3   [grüne, philosophie, konservativ, denkansatz, ...  print  \n",
       "4   [technisch, dokumentation, maschine, anlagenba...  print  \n",
       "5   [geotechnik, bodenmechanik, buch, vermitteln, ...  print  \n",
       "6   [farbe, natur, technik, kunst, farbe, auflage,...  print  \n",
       "7   [geotechnik, grundbau, komplex, technisch, hoc...  print  \n",
       "8   [einführung, ölhydraulik, eher, renius, karl, ...  print  \n",
       "9   [trust, but, test, vertrauen, virtuell, gemein...  print  \n",
       "10  [handbuch, theorie, methode, raum, umweltplanu...  print  \n",
       "11  [stadt, land, gender, einführung, feministisch...  print  \n",
       "12  [bildungsberatung, orientierung, offenheit, qu...  print  \n",
       "13  [literatur, fotografie, analyse, intermedialen...  print  \n",
       "14  [datendesign, r, 100, visualisierungsbeispiele...  print  \n",
       "15  [sprachhandlungskoordination, chatkommunikatio...  print  \n",
       "16  [warum, sinken, titanic, wirklich, neu, forens...  print  \n",
       "17  [gehirn, beziehungsorgan, phänomenologischökol...  print  \n",
       "18  [spacecraft, fleeting, architecture, and, hide...  print  \n",
       "19  [wissen, bildung, antik, philosophie, wissen, ...  print  "
      ]
     },
     "execution_count": 104,
     "metadata": {},
     "output_type": "execute_result"
    }
   ],
   "source": [
    "df_combined.head(20)"
   ]
  },
  {
   "cell_type": "markdown",
   "metadata": {},
   "source": [
    "<h1>Export</h1>"
   ]
  },
  {
   "cell_type": "code",
   "execution_count": 105,
   "metadata": {},
   "outputs": [],
   "source": [
    "# export df\n",
    "df_combined.to_pickle(\"../data/after_nltk/data_combined_after_nltk.pkl\")"
   ]
  },
  {
   "cell_type": "code",
   "execution_count": null,
   "metadata": {},
   "outputs": [],
   "source": [
    "# export for doc2vec\n",
    "words_lematized_export = pd.Series(words_lematized_3)\n",
    "words_lematized_export.to_csv('../data/after_nltk/data_movies_content_after_nltk_doc2vec.csv', index=True)"
   ]
  },
  {
   "cell_type": "code",
   "execution_count": null,
   "metadata": {},
   "outputs": [],
   "source": [
    "# export for RRI\n",
    "words_lematized_export_2 = words_lematized_export.str.join(' ')\n",
    "words_lematized_export_2 = words_lematized_export_2.str.replace('[^\\w\\s]','')\n",
    "words_lematized_export_2 = words_lematized_export_2.str.findall('\\w{2,}').str.join(' ')\n",
    "words_lematized_export_2.to_csv('../data/after_nltk/data_movies_content_after_nltk_rri.csv', index=True)"
   ]
  },
  {
   "cell_type": "markdown",
   "metadata": {},
   "source": [
    "XXXXXXXXXXXXXXXXXXXXXXXXXXXXXXXXXXXXXXXXXXXXXXXXXXXXXXX"
   ]
  },
  {
   "cell_type": "code",
   "execution_count": null,
   "metadata": {},
   "outputs": [],
   "source": [
    "df_import = pd.read_pickle('../data/data_filtered contents.pkl')\n",
    "\n",
    "#df_combined['content'] = "
   ]
  },
  {
   "cell_type": "code",
   "execution_count": null,
   "metadata": {},
   "outputs": [],
   "source": [
    "df_combined.to_pickle('../data/after_nltk/data_movies_after_nltk.pkl')\n",
    "# df_content.to_csv('../data/after_nltk/df_content.csv', index=True)\n",
    "#df[\"content_nltk\"].to_csv('../data/after_nltk/df_content_after_nltk+titles.csv', index=True)\n",
    "#df[\"content_nltk\"].to_csv('../data/after_nltk/df_movies_content_after_nltk.csv', index=True)\n",
    "# df.to_excel('../data/after_nltk/data_after_nltk.xlsx', index = False)"
   ]
  },
  {
   "cell_type": "code",
   "execution_count": null,
   "metadata": {},
   "outputs": [],
   "source": [
    "# #counts number of lines\n",
    "# fname = \"df_content.txt\"\n",
    "# count = 0\n",
    "# with open(fname, 'r') as f:\n",
    "#     for line in f:\n",
    "#         count += 1\n",
    "# print(\"Total number of lines is:\", count)"
   ]
  }
 ],
 "metadata": {
  "kernelspec": {
   "display_name": "Python 3",
   "language": "python",
   "name": "python3"
  },
  "language_info": {
   "codemirror_mode": {
    "name": "ipython",
    "version": 3
   },
   "file_extension": ".py",
   "mimetype": "text/x-python",
   "name": "python",
   "nbconvert_exporter": "python",
   "pygments_lexer": "ipython3",
   "version": "3.7.4"
  }
 },
 "nbformat": 4,
 "nbformat_minor": 2
}
