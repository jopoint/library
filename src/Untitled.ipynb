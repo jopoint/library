{
 "cells": [
  {
   "cell_type": "code",
   "execution_count": 1,
   "metadata": {},
   "outputs": [],
   "source": [
    "from gensim.models.doc2vec import Doc2Vec,TaggedLineDocument\n",
    "import gzip,os,glob\n",
    "import numpy as np"
   ]
  },
  {
   "cell_type": "code",
   "execution_count": null,
   "metadata": {},
   "outputs": [],
   "source": [
    "def preprocess_docs(in_dir,out_dir):\n",
    "    with gzip.open(in_dir+'uid_indices.txt.gz','wb') as idx_out, gzip.open(out_dir+'docs.txt.gz','wb') as docs:\n",
    "        overall_total = 0\n",
    "        files = glob.glob('{}/*.txt.gz'.format(in_dir))\n",
    "        for f in files:\n",
    "            if 'docs' or 'uid_indices' in f:\n",
    "                continue\n",
    "            print \"Starting file {}\".format(f)\n",
    "            for i,line in enumerate(gzip.open(f)):\n",
    "                uid,text = line.split('\\t')\n",
    "                if text.strip() == '':\n",
    "                    continue\n",
    "                docs.write(normalize_text(text)+'\\n')\n",
    "                idx_out.write(uid+'\\n')\n",
    "            total = i+1\n",
    "            overall_total += total\n",
    "            print \"{} complete: {} total documents ({} overall)\".format(f,total,overall_total)\n",
    "\n",
    "\n",
    "preprocess_docs(abs_dir,abs_dir)"
   ]
  }
 ],
 "metadata": {
  "kernelspec": {
   "display_name": "Python 3",
   "language": "python",
   "name": "python3"
  },
  "language_info": {
   "codemirror_mode": {
    "name": "ipython",
    "version": 3
   },
   "file_extension": ".py",
   "mimetype": "text/x-python",
   "name": "python",
   "nbconvert_exporter": "python",
   "pygments_lexer": "ipython3",
   "version": "3.7.4"
  }
 },
 "nbformat": 4,
 "nbformat_minor": 4
}
