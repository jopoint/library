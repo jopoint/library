{
 "cells": [
  {
   "cell_type": "code",
   "execution_count": 125,
   "metadata": {},
   "outputs": [],
   "source": [
    "from nltk.tokenize import word_tokenize\n",
    "import pandas as pd\n",
    "import spacy \n",
    "import matplotlib.pyplot as plt\n",
    "import gzip,os,glob\n",
    "import numpy as np\n",
    "import pickle\n",
    "import nltk\n",
    "import codecs\n",
    "from langdetect import detect\n",
    "import csv\n",
    "from tqdm import tqdm"
   ]
  },
  {
   "cell_type": "code",
   "execution_count": 126,
   "metadata": {},
   "outputs": [
    {
     "name": "stdout",
     "output_type": "stream",
     "text": [
      "(20247, 5)\n"
     ]
    }
   ],
   "source": [
    "# load data from pkl file \n",
    "df = pd.read_pickle('../data/data_filtered contents.pkl')\n",
    "print(df.shape)"
   ]
  },
  {
   "cell_type": "code",
   "execution_count": 127,
   "metadata": {},
   "outputs": [],
   "source": [
    "# Adds new collumn, detects language of column\n",
    "df['Languagereview'] = df['content'].apply(detect)"
   ]
  },
  {
   "cell_type": "code",
   "execution_count": 128,
   "metadata": {},
   "outputs": [],
   "source": [
    "# delets all rows with the value \"en\"\n",
    "df = df[df.Languagereview == \"de\"]"
   ]
  },
  {
   "cell_type": "code",
   "execution_count": 129,
   "metadata": {},
   "outputs": [
    {
     "name": "stdout",
     "output_type": "stream",
     "text": [
      "(18141, 6)\n"
     ]
    }
   ],
   "source": [
    "# resets index from 0, 4, 11, ... (random) to 0,1,2, ...\n",
    "df.reset_index(inplace=True,drop=True)\n",
    "print(df.shape)"
   ]
  },
  {
   "cell_type": "code",
   "execution_count": 130,
   "metadata": {},
   "outputs": [
    {
     "data": {
      "text/html": [
       "<div>\n",
       "<style scoped>\n",
       "    .dataframe tbody tr th:only-of-type {\n",
       "        vertical-align: middle;\n",
       "    }\n",
       "\n",
       "    .dataframe tbody tr th {\n",
       "        vertical-align: top;\n",
       "    }\n",
       "\n",
       "    .dataframe thead th {\n",
       "        text-align: right;\n",
       "    }\n",
       "</style>\n",
       "<table border=\"1\" class=\"dataframe\">\n",
       "  <thead>\n",
       "    <tr style=\"text-align: right;\">\n",
       "      <th></th>\n",
       "      <th>title1</th>\n",
       "      <th>title2</th>\n",
       "      <th>title3</th>\n",
       "      <th>content</th>\n",
       "      <th>word_count</th>\n",
       "    </tr>\n",
       "  </thead>\n",
       "  <tbody>\n",
       "    <tr>\n",
       "      <th>0</th>\n",
       "      <td>Electric gir</td>\n",
       "      <td>None</td>\n",
       "      <td>ein Film von Ziska Riemann   Victoria Schulz  ...</td>\n",
       "      <td>Eine frischgebackene Synchronsprecherin identi...</td>\n",
       "      <td>88</td>\n",
       "    </tr>\n",
       "    <tr>\n",
       "      <th>1</th>\n",
       "      <td>Hans Hartung - malen so schnell wie der Blitz</td>\n",
       "      <td>Hans Hartung - la fureur de peindre.</td>\n",
       "      <td>None</td>\n",
       "      <td>Er konnte malen so schnell wie der Blitz: Der ...</td>\n",
       "      <td>103</td>\n",
       "    </tr>\n",
       "    <tr>\n",
       "      <th>2</th>\n",
       "      <td>Der   Fotograf Roger Melis - Chronist der Ostd...</td>\n",
       "      <td>None</td>\n",
       "      <td>Buch und Regie: Pamela Meyer-Arndt.</td>\n",
       "      <td>In seinen Reportagen zeigte Roger Melis den Al...</td>\n",
       "      <td>71</td>\n",
       "    </tr>\n",
       "    <tr>\n",
       "      <th>3</th>\n",
       "      <td>Ayk</td>\n",
       "      <td>None</td>\n",
       "      <td>Regie: Sergey Dvortsevoy   Drehbuch: Sergey Dv...</td>\n",
       "      <td>Eine illegal unter erbärmlichen Umständen in M...</td>\n",
       "      <td>88</td>\n",
       "    </tr>\n",
       "    <tr>\n",
       "      <th>4</th>\n",
       "      <td>The   unanswered Ives</td>\n",
       "      <td>Wunderkind  Wall-Street-Gigant  Klangpionier</td>\n",
       "      <td>ein Film von Anne-Katrin Peitz.</td>\n",
       "      <td>8    # a \"Charles Ives (1874-1954) ist ein Man...</td>\n",
       "      <td>109</td>\n",
       "    </tr>\n",
       "    <tr>\n",
       "      <th>...</th>\n",
       "      <td>...</td>\n",
       "      <td>...</td>\n",
       "      <td>...</td>\n",
       "      <td>...</td>\n",
       "      <td>...</td>\n",
       "    </tr>\n",
       "    <tr>\n",
       "      <th>7443</th>\n",
       "      <td>Jochen Roller  Let's dance! Lecture  performance</td>\n",
       "      <td>None</td>\n",
       "      <td>Konzept und Leitung: Gabriele Brandstetter.</td>\n",
       "      <td>Jochen Roller  geboren 1971 in Berlin  studier...</td>\n",
       "      <td>90</td>\n",
       "    </tr>\n",
       "    <tr>\n",
       "      <th>7444</th>\n",
       "      <td>Ai Weiwei - Stimmen gegen das Verstummen</td>\n",
       "      <td>None</td>\n",
       "      <td>ein Film von Birgit Adler-Conrad.</td>\n",
       "      <td>Der chinesische Künstler Ai Weiwei wurde im Fr...</td>\n",
       "      <td>141</td>\n",
       "    </tr>\n",
       "    <tr>\n",
       "      <th>7445</th>\n",
       "      <td>New York tomorrow</td>\n",
       "      <td>None</td>\n",
       "      <td>réalisation: Yoann Le Gruiec. Scénario: Jean-M...</td>\n",
       "      <td>Die Webdokumentation \"New York 3.0\" gibt Inter...</td>\n",
       "      <td>55</td>\n",
       "    </tr>\n",
       "    <tr>\n",
       "      <th>7446</th>\n",
       "      <td>Hostess</td>\n",
       "      <td>None</td>\n",
       "      <td>ein Film von Rolf Römer. Mit: Annekathrin Bürg...</td>\n",
       "      <td>Eine Hostess  die seit zwei Jahren mit einem A...</td>\n",
       "      <td>58</td>\n",
       "    </tr>\n",
       "    <tr>\n",
       "      <th>7447</th>\n",
       "      <td>Bruno Peinado</td>\n",
       "      <td>Bildender Künstler</td>\n",
       "      <td>réalisation: Thomas Lallier.</td>\n",
       "      <td>Bruno Peinado hat die plastische Kunst revolu...</td>\n",
       "      <td>119</td>\n",
       "    </tr>\n",
       "  </tbody>\n",
       "</table>\n",
       "<p>7448 rows × 5 columns</p>\n",
       "</div>"
      ],
      "text/plain": [
       "                                                 title1  \\\n",
       "0                                          Electric gir   \n",
       "1         Hans Hartung - malen so schnell wie der Blitz   \n",
       "2     Der   Fotograf Roger Melis - Chronist der Ostd...   \n",
       "3                                                   Ayk   \n",
       "4                                 The   unanswered Ives   \n",
       "...                                                 ...   \n",
       "7443   Jochen Roller  Let's dance! Lecture  performance   \n",
       "7444           Ai Weiwei - Stimmen gegen das Verstummen   \n",
       "7445                                  New York tomorrow   \n",
       "7446                                            Hostess   \n",
       "7447                                      Bruno Peinado   \n",
       "\n",
       "                                            title2  \\\n",
       "0                                             None   \n",
       "1             Hans Hartung - la fureur de peindre.   \n",
       "2                                             None   \n",
       "3                                             None   \n",
       "4     Wunderkind  Wall-Street-Gigant  Klangpionier   \n",
       "...                                            ...   \n",
       "7443                                          None   \n",
       "7444                                          None   \n",
       "7445                                          None   \n",
       "7446                                          None   \n",
       "7447                            Bildender Künstler   \n",
       "\n",
       "                                                 title3  \\\n",
       "0     ein Film von Ziska Riemann   Victoria Schulz  ...   \n",
       "1                                                  None   \n",
       "2                   Buch und Regie: Pamela Meyer-Arndt.   \n",
       "3     Regie: Sergey Dvortsevoy   Drehbuch: Sergey Dv...   \n",
       "4                       ein Film von Anne-Katrin Peitz.   \n",
       "...                                                 ...   \n",
       "7443        Konzept und Leitung: Gabriele Brandstetter.   \n",
       "7444                  ein Film von Birgit Adler-Conrad.   \n",
       "7445  réalisation: Yoann Le Gruiec. Scénario: Jean-M...   \n",
       "7446  ein Film von Rolf Römer. Mit: Annekathrin Bürg...   \n",
       "7447                       réalisation: Thomas Lallier.   \n",
       "\n",
       "                                                content  word_count  \n",
       "0     Eine frischgebackene Synchronsprecherin identi...          88  \n",
       "1     Er konnte malen so schnell wie der Blitz: Der ...         103  \n",
       "2     In seinen Reportagen zeigte Roger Melis den Al...          71  \n",
       "3     Eine illegal unter erbärmlichen Umständen in M...          88  \n",
       "4     8    # a \"Charles Ives (1874-1954) ist ein Man...         109  \n",
       "...                                                 ...         ...  \n",
       "7443  Jochen Roller  geboren 1971 in Berlin  studier...          90  \n",
       "7444  Der chinesische Künstler Ai Weiwei wurde im Fr...         141  \n",
       "7445  Die Webdokumentation \"New York 3.0\" gibt Inter...          55  \n",
       "7446  Eine Hostess  die seit zwei Jahren mit einem A...          58  \n",
       "7447   Bruno Peinado hat die plastische Kunst revolu...         119  \n",
       "\n",
       "[7448 rows x 5 columns]"
      ]
     },
     "execution_count": 130,
     "metadata": {},
     "output_type": "execute_result"
    }
   ],
   "source": [
    "df_movies = pd.read_pickle('../data/df_movies_cleaning_2.pkl')\n",
    "df_movies"
   ]
  },
  {
   "cell_type": "code",
   "execution_count": 132,
   "metadata": {},
   "outputs": [
    {
     "ename": "KeyError",
     "evalue": "\"['word_count'] not found in axis\"",
     "output_type": "error",
     "traceback": [
      "\u001b[1;31m---------------------------------------------------------------------------\u001b[0m",
      "\u001b[1;31mKeyError\u001b[0m                                  Traceback (most recent call last)",
      "\u001b[1;32m<ipython-input-132-1a9e9ba02a51>\u001b[0m in \u001b[0;36m<module>\u001b[1;34m\u001b[0m\n\u001b[0;32m     15\u001b[0m \u001b[0mdf_movies\u001b[0m\u001b[1;33m.\u001b[0m\u001b[0mrename\u001b[0m\u001b[1;33m(\u001b[0m\u001b[0mcolumns\u001b[0m\u001b[1;33m=\u001b[0m\u001b[1;33m{\u001b[0m\u001b[1;34m'title3'\u001b[0m\u001b[1;33m:\u001b[0m \u001b[1;34m'author'\u001b[0m\u001b[1;33m}\u001b[0m\u001b[1;33m,\u001b[0m \u001b[0minplace\u001b[0m\u001b[1;33m=\u001b[0m\u001b[1;32mTrue\u001b[0m\u001b[1;33m)\u001b[0m\u001b[1;33m\u001b[0m\u001b[1;33m\u001b[0m\u001b[0m\n\u001b[0;32m     16\u001b[0m \u001b[1;31m# drop collumn\u001b[0m\u001b[1;33m\u001b[0m\u001b[1;33m\u001b[0m\u001b[1;33m\u001b[0m\u001b[0m\n\u001b[1;32m---> 17\u001b[1;33m \u001b[0mdf_movies\u001b[0m\u001b[1;33m.\u001b[0m\u001b[0mdrop\u001b[0m\u001b[1;33m(\u001b[0m\u001b[1;33m[\u001b[0m\u001b[1;34m'word_count'\u001b[0m\u001b[1;33m]\u001b[0m\u001b[1;33m,\u001b[0m\u001b[1;36m1\u001b[0m\u001b[1;33m,\u001b[0m\u001b[0minplace\u001b[0m\u001b[1;33m=\u001b[0m\u001b[1;32mTrue\u001b[0m\u001b[1;33m)\u001b[0m\u001b[1;33m\u001b[0m\u001b[1;33m\u001b[0m\u001b[0m\n\u001b[0m\u001b[0;32m     18\u001b[0m \u001b[0mdf_movies\u001b[0m\u001b[1;33m.\u001b[0m\u001b[0mdrop\u001b[0m\u001b[1;33m(\u001b[0m\u001b[1;33m[\u001b[0m\u001b[1;34m'title2'\u001b[0m\u001b[1;33m]\u001b[0m\u001b[1;33m,\u001b[0m\u001b[1;36m1\u001b[0m\u001b[1;33m,\u001b[0m\u001b[0minplace\u001b[0m\u001b[1;33m=\u001b[0m\u001b[1;32mTrue\u001b[0m\u001b[1;33m)\u001b[0m\u001b[1;33m\u001b[0m\u001b[1;33m\u001b[0m\u001b[0m\n\u001b[0;32m     19\u001b[0m \u001b[1;31m# add label collumn\u001b[0m\u001b[1;33m\u001b[0m\u001b[1;33m\u001b[0m\u001b[1;33m\u001b[0m\u001b[0m\n",
      "\u001b[1;32m~\\Anaconda3\\lib\\site-packages\\pandas\\core\\frame.py\u001b[0m in \u001b[0;36mdrop\u001b[1;34m(self, labels, axis, index, columns, level, inplace, errors)\u001b[0m\n\u001b[0;32m   3995\u001b[0m             \u001b[0mlevel\u001b[0m\u001b[1;33m=\u001b[0m\u001b[0mlevel\u001b[0m\u001b[1;33m,\u001b[0m\u001b[1;33m\u001b[0m\u001b[1;33m\u001b[0m\u001b[0m\n\u001b[0;32m   3996\u001b[0m             \u001b[0minplace\u001b[0m\u001b[1;33m=\u001b[0m\u001b[0minplace\u001b[0m\u001b[1;33m,\u001b[0m\u001b[1;33m\u001b[0m\u001b[1;33m\u001b[0m\u001b[0m\n\u001b[1;32m-> 3997\u001b[1;33m             \u001b[0merrors\u001b[0m\u001b[1;33m=\u001b[0m\u001b[0merrors\u001b[0m\u001b[1;33m,\u001b[0m\u001b[1;33m\u001b[0m\u001b[1;33m\u001b[0m\u001b[0m\n\u001b[0m\u001b[0;32m   3998\u001b[0m         )\n\u001b[0;32m   3999\u001b[0m \u001b[1;33m\u001b[0m\u001b[0m\n",
      "\u001b[1;32m~\\Anaconda3\\lib\\site-packages\\pandas\\core\\generic.py\u001b[0m in \u001b[0;36mdrop\u001b[1;34m(self, labels, axis, index, columns, level, inplace, errors)\u001b[0m\n\u001b[0;32m   3934\u001b[0m         \u001b[1;32mfor\u001b[0m \u001b[0maxis\u001b[0m\u001b[1;33m,\u001b[0m \u001b[0mlabels\u001b[0m \u001b[1;32min\u001b[0m \u001b[0maxes\u001b[0m\u001b[1;33m.\u001b[0m\u001b[0mitems\u001b[0m\u001b[1;33m(\u001b[0m\u001b[1;33m)\u001b[0m\u001b[1;33m:\u001b[0m\u001b[1;33m\u001b[0m\u001b[1;33m\u001b[0m\u001b[0m\n\u001b[0;32m   3935\u001b[0m             \u001b[1;32mif\u001b[0m \u001b[0mlabels\u001b[0m \u001b[1;32mis\u001b[0m \u001b[1;32mnot\u001b[0m \u001b[1;32mNone\u001b[0m\u001b[1;33m:\u001b[0m\u001b[1;33m\u001b[0m\u001b[1;33m\u001b[0m\u001b[0m\n\u001b[1;32m-> 3936\u001b[1;33m                 \u001b[0mobj\u001b[0m \u001b[1;33m=\u001b[0m \u001b[0mobj\u001b[0m\u001b[1;33m.\u001b[0m\u001b[0m_drop_axis\u001b[0m\u001b[1;33m(\u001b[0m\u001b[0mlabels\u001b[0m\u001b[1;33m,\u001b[0m \u001b[0maxis\u001b[0m\u001b[1;33m,\u001b[0m \u001b[0mlevel\u001b[0m\u001b[1;33m=\u001b[0m\u001b[0mlevel\u001b[0m\u001b[1;33m,\u001b[0m \u001b[0merrors\u001b[0m\u001b[1;33m=\u001b[0m\u001b[0merrors\u001b[0m\u001b[1;33m)\u001b[0m\u001b[1;33m\u001b[0m\u001b[1;33m\u001b[0m\u001b[0m\n\u001b[0m\u001b[0;32m   3937\u001b[0m \u001b[1;33m\u001b[0m\u001b[0m\n\u001b[0;32m   3938\u001b[0m         \u001b[1;32mif\u001b[0m \u001b[0minplace\u001b[0m\u001b[1;33m:\u001b[0m\u001b[1;33m\u001b[0m\u001b[1;33m\u001b[0m\u001b[0m\n",
      "\u001b[1;32m~\\Anaconda3\\lib\\site-packages\\pandas\\core\\generic.py\u001b[0m in \u001b[0;36m_drop_axis\u001b[1;34m(self, labels, axis, level, errors)\u001b[0m\n\u001b[0;32m   3968\u001b[0m                 \u001b[0mnew_axis\u001b[0m \u001b[1;33m=\u001b[0m \u001b[0maxis\u001b[0m\u001b[1;33m.\u001b[0m\u001b[0mdrop\u001b[0m\u001b[1;33m(\u001b[0m\u001b[0mlabels\u001b[0m\u001b[1;33m,\u001b[0m \u001b[0mlevel\u001b[0m\u001b[1;33m=\u001b[0m\u001b[0mlevel\u001b[0m\u001b[1;33m,\u001b[0m \u001b[0merrors\u001b[0m\u001b[1;33m=\u001b[0m\u001b[0merrors\u001b[0m\u001b[1;33m)\u001b[0m\u001b[1;33m\u001b[0m\u001b[1;33m\u001b[0m\u001b[0m\n\u001b[0;32m   3969\u001b[0m             \u001b[1;32melse\u001b[0m\u001b[1;33m:\u001b[0m\u001b[1;33m\u001b[0m\u001b[1;33m\u001b[0m\u001b[0m\n\u001b[1;32m-> 3970\u001b[1;33m                 \u001b[0mnew_axis\u001b[0m \u001b[1;33m=\u001b[0m \u001b[0maxis\u001b[0m\u001b[1;33m.\u001b[0m\u001b[0mdrop\u001b[0m\u001b[1;33m(\u001b[0m\u001b[0mlabels\u001b[0m\u001b[1;33m,\u001b[0m \u001b[0merrors\u001b[0m\u001b[1;33m=\u001b[0m\u001b[0merrors\u001b[0m\u001b[1;33m)\u001b[0m\u001b[1;33m\u001b[0m\u001b[1;33m\u001b[0m\u001b[0m\n\u001b[0m\u001b[0;32m   3971\u001b[0m             \u001b[0mresult\u001b[0m \u001b[1;33m=\u001b[0m \u001b[0mself\u001b[0m\u001b[1;33m.\u001b[0m\u001b[0mreindex\u001b[0m\u001b[1;33m(\u001b[0m\u001b[1;33m**\u001b[0m\u001b[1;33m{\u001b[0m\u001b[0maxis_name\u001b[0m\u001b[1;33m:\u001b[0m \u001b[0mnew_axis\u001b[0m\u001b[1;33m}\u001b[0m\u001b[1;33m)\u001b[0m\u001b[1;33m\u001b[0m\u001b[1;33m\u001b[0m\u001b[0m\n\u001b[0;32m   3972\u001b[0m \u001b[1;33m\u001b[0m\u001b[0m\n",
      "\u001b[1;32m~\\Anaconda3\\lib\\site-packages\\pandas\\core\\indexes\\base.py\u001b[0m in \u001b[0;36mdrop\u001b[1;34m(self, labels, errors)\u001b[0m\n\u001b[0;32m   5016\u001b[0m         \u001b[1;32mif\u001b[0m \u001b[0mmask\u001b[0m\u001b[1;33m.\u001b[0m\u001b[0many\u001b[0m\u001b[1;33m(\u001b[0m\u001b[1;33m)\u001b[0m\u001b[1;33m:\u001b[0m\u001b[1;33m\u001b[0m\u001b[1;33m\u001b[0m\u001b[0m\n\u001b[0;32m   5017\u001b[0m             \u001b[1;32mif\u001b[0m \u001b[0merrors\u001b[0m \u001b[1;33m!=\u001b[0m \u001b[1;34m\"ignore\"\u001b[0m\u001b[1;33m:\u001b[0m\u001b[1;33m\u001b[0m\u001b[1;33m\u001b[0m\u001b[0m\n\u001b[1;32m-> 5018\u001b[1;33m                 \u001b[1;32mraise\u001b[0m \u001b[0mKeyError\u001b[0m\u001b[1;33m(\u001b[0m\u001b[1;34mf\"{labels[mask]} not found in axis\"\u001b[0m\u001b[1;33m)\u001b[0m\u001b[1;33m\u001b[0m\u001b[1;33m\u001b[0m\u001b[0m\n\u001b[0m\u001b[0;32m   5019\u001b[0m             \u001b[0mindexer\u001b[0m \u001b[1;33m=\u001b[0m \u001b[0mindexer\u001b[0m\u001b[1;33m[\u001b[0m\u001b[1;33m~\u001b[0m\u001b[0mmask\u001b[0m\u001b[1;33m]\u001b[0m\u001b[1;33m\u001b[0m\u001b[1;33m\u001b[0m\u001b[0m\n\u001b[0;32m   5020\u001b[0m         \u001b[1;32mreturn\u001b[0m \u001b[0mself\u001b[0m\u001b[1;33m.\u001b[0m\u001b[0mdelete\u001b[0m\u001b[1;33m(\u001b[0m\u001b[0mindexer\u001b[0m\u001b[1;33m)\u001b[0m\u001b[1;33m\u001b[0m\u001b[1;33m\u001b[0m\u001b[0m\n",
      "\u001b[1;31mKeyError\u001b[0m: \"['word_count'] not found in axis\""
     ]
    }
   ],
   "source": [
    "# Removing non-alphabetical symbols in dataframe, keeping umlauts\n",
    "df_movies['content'] = df_movies['content'].replace('[^a-zA-Z \\äöüß]', '', regex=True).str.replace(' +',' ').str.strip()\n",
    "# Transform umlauts\n",
    "df_movies['content'] = df_movies['content'].str.replace(chr(252), 'ue')\n",
    "df_movies['content'] = df_movies['content'].str.replace(chr(228), 'ae')\n",
    "df_movies['content'] = df_movies['content'].str.replace(chr(246), 'oe')\n",
    "df_movies['content'] = df_movies['content'].str.replace(chr(196), 'Ae')\n",
    "df_movies['content'] = df_movies['content'].str.replace(chr(214), 'Oe')\n",
    "df_movies['content'] = df_movies['content'].str.replace(chr(220), 'Ue')\n",
    "df_movies['content'] = df_movies['content'].str.replace(chr(223), 'ss')\n",
    "# Lowercase\n",
    "df_movies['content'] = df_movies['content'].str.lower()\n",
    "# rename collumn\n",
    "df_movies.rename(columns={'title1': 'title'}, inplace=True)\n",
    "df_movies.rename(columns={'title3': 'author'}, inplace=True)\n",
    "# drop collumn\n",
    "df_movies.drop(['word_count'],1,inplace=True)\n",
    "df_movies.drop(['title2'],1,inplace=True)\n",
    "# add label collumn\n",
    "df_movies['medium'] ='movie'\n",
    "# add nan\n",
    "df_movies.fillna(value=pd.np.nan, inplace=True)\n",
    "df_movies.head()"
   ]
  },
  {
   "cell_type": "code",
   "execution_count": 153,
   "metadata": {},
   "outputs": [],
   "source": [
    "# drop nan in ['content']\n",
    "df_movies = df_movies[df_movies['content'].notna()]"
   ]
  },
  {
   "cell_type": "code",
   "execution_count": 154,
   "metadata": {},
   "outputs": [
    {
     "data": {
      "text/html": [
       "<div>\n",
       "<style scoped>\n",
       "    .dataframe tbody tr th:only-of-type {\n",
       "        vertical-align: middle;\n",
       "    }\n",
       "\n",
       "    .dataframe tbody tr th {\n",
       "        vertical-align: top;\n",
       "    }\n",
       "\n",
       "    .dataframe thead th {\n",
       "        text-align: right;\n",
       "    }\n",
       "</style>\n",
       "<table border=\"1\" class=\"dataframe\">\n",
       "  <thead>\n",
       "    <tr style=\"text-align: right;\">\n",
       "      <th></th>\n",
       "      <th>author</th>\n",
       "      <th>title</th>\n",
       "      <th>class</th>\n",
       "      <th>content</th>\n",
       "      <th>word_count</th>\n",
       "      <th>Languagereview</th>\n",
       "      <th>medium</th>\n",
       "    </tr>\n",
       "  </thead>\n",
       "  <tbody>\n",
       "    <tr>\n",
       "      <th>0</th>\n",
       "      <td>NaN</td>\n",
       "      <td>aernout mik communitas</td>\n",
       "      <td>[Kunstgeschichte]</td>\n",
       "      <td>aernout mik zählt zu den wichtigsten künstlern...</td>\n",
       "      <td>64</td>\n",
       "      <td>de</td>\n",
       "      <td>print</td>\n",
       "    </tr>\n",
       "    <tr>\n",
       "      <th>1</th>\n",
       "      <td>NaN</td>\n",
       "      <td>anton henning dt engl</td>\n",
       "      <td>NaN</td>\n",
       "      <td>die vorliegende publikation widmet sich drei o...</td>\n",
       "      <td>113</td>\n",
       "      <td>de</td>\n",
       "      <td>print</td>\n",
       "    </tr>\n",
       "    <tr>\n",
       "      <th>2</th>\n",
       "      <td>specht heike</td>\n",
       "      <td>die feuchtwangers familie tradition und jüdis...</td>\n",
       "      <td>[Sprachwissenschaften, Geschichte]</td>\n",
       "      <td>jahre geschichte deutschjüdischen bürgertums a...</td>\n",
       "      <td>169</td>\n",
       "      <td>de</td>\n",
       "      <td>print</td>\n",
       "    </tr>\n",
       "    <tr>\n",
       "      <th>3</th>\n",
       "      <td>scruton roger</td>\n",
       "      <td>grüne philosophie ein konservativer denkansatz</td>\n",
       "      <td>[Allgemeines, Philosophie, Theologie und Relig...</td>\n",
       "      <td>der umweltschutz liegt herkömmlich im hoheitsg...</td>\n",
       "      <td>101</td>\n",
       "      <td>de</td>\n",
       "      <td>print</td>\n",
       "    </tr>\n",
       "    <tr>\n",
       "      <th>4</th>\n",
       "      <td>schlagowski heinz</td>\n",
       "      <td>technische dokumentation im maschinen und anl...</td>\n",
       "      <td>[Technik]</td>\n",
       "      <td>das buch gibt dem anwender die entscheidenden ...</td>\n",
       "      <td>156</td>\n",
       "      <td>de</td>\n",
       "      <td>print</td>\n",
       "    </tr>\n",
       "  </tbody>\n",
       "</table>\n",
       "</div>"
      ],
      "text/plain": [
       "              author                                              title  \\\n",
       "0                NaN                            aernout mik communitas    \n",
       "1                NaN                             anton henning dt engl    \n",
       "2       specht heike   die feuchtwangers familie tradition und jüdis...   \n",
       "3      scruton roger     grüne philosophie ein konservativer denkansatz   \n",
       "4  schlagowski heinz   technische dokumentation im maschinen und anl...   \n",
       "\n",
       "                                               class  \\\n",
       "0                                  [Kunstgeschichte]   \n",
       "1                                                NaN   \n",
       "2                 [Sprachwissenschaften, Geschichte]   \n",
       "3  [Allgemeines, Philosophie, Theologie und Relig...   \n",
       "4                                          [Technik]   \n",
       "\n",
       "                                             content  word_count  \\\n",
       "0  aernout mik zählt zu den wichtigsten künstlern...          64   \n",
       "1  die vorliegende publikation widmet sich drei o...         113   \n",
       "2  jahre geschichte deutschjüdischen bürgertums a...         169   \n",
       "3  der umweltschutz liegt herkömmlich im hoheitsg...         101   \n",
       "4  das buch gibt dem anwender die entscheidenden ...         156   \n",
       "\n",
       "  Languagereview medium  \n",
       "0             de  print  \n",
       "1             de  print  \n",
       "2             de  print  \n",
       "3             de  print  \n",
       "4             de  print  "
      ]
     },
     "execution_count": 154,
     "metadata": {},
     "output_type": "execute_result"
    }
   ],
   "source": [
    "# Removing non-alphabetical symbols in dataframe, keeping umlauts\n",
    "df['content'] = df['content'].replace('[^a-zA-Z \\äöüß]', '', regex=True).str.replace(' +',' ').str.strip()\n",
    "# Transform umlauts\n",
    "# df['content'] = df['content'].str.replace(chr(252), 'ue')\n",
    "# df['content'] = df['content'].str.replace(chr(228), 'ae')\n",
    "# df['content'] = df['content'].str.replace(chr(246), 'oe')\n",
    "# df['content'] = df['content'].str.replace(chr(196), 'Ae')\n",
    "# df['content'] = df['content'].str.replace(chr(214), 'Oe')\n",
    "# df['content'] = df['content'].str.replace(chr(220), 'Ue')\n",
    "# df['content'] = df['content'].str.replace(chr(223), 'ss')\n",
    "# Lowercase\n",
    "df['content'] = df['content'].str.lower()\n",
    "# add label collumn\n",
    "df['medium'] ='print'\n",
    "df.head()"
   ]
  },
  {
   "cell_type": "code",
   "execution_count": 155,
   "metadata": {},
   "outputs": [],
   "source": [
    "# drop nan in ['content']\n",
    "df = df[df['content'].notna()]"
   ]
  },
  {
   "cell_type": "markdown",
   "metadata": {},
   "source": [
    "<h1>Combining content</h1>"
   ]
  },
  {
   "cell_type": "code",
   "execution_count": 156,
   "metadata": {},
   "outputs": [],
   "source": [
    "df['title'] = df['title'].str.split('  / von').str[0]\n",
    "df['title'] = df['title'].str.replace('[^\\w\\s]','')\n",
    "df['title'] = df['title'].replace('\\s+', ' ', regex=True)\n",
    "df['title'] = df['title'].str.lower()"
   ]
  },
  {
   "cell_type": "code",
   "execution_count": 135,
   "metadata": {},
   "outputs": [],
   "source": [
    "df['author'] = df['author'].str.split('  / von').str[0]\n",
    "df['author'] = df['author'].str.replace('[^\\w\\s]','')\n",
    "df['author'] = df['author'].replace('\\s+', ' ', regex=True)\n",
    "df['author'] = df['author'].str.lower()"
   ]
  },
  {
   "cell_type": "code",
   "execution_count": 136,
   "metadata": {},
   "outputs": [],
   "source": [
    "df_combined = df.copy()\n",
    "df_combined.drop(['class','word_count', 'Languagereview'],axis=1, inplace=True)\n",
    "df_combined.replace(np.nan, '', regex=True, inplace=True)\n",
    "df_combined.replace('\\s+', ' ', regex=True, inplace=True)\n",
    "\n",
    "df_combined['content_nltk'] = df_combined['title'] +\" \"+ df_combined['content']\n",
    "df_combined['content_nltk'] = df_combined['content_nltk'].str.strip()\n",
    "\n",
    "df_movies['title'] = df_movies['title'].str.lower()\n",
    "\n",
    "df_movies['content_nltk'] = df_movies['title'] +\" \"+ df_movies['content']\n",
    "df_movies['content_nltk'] = df_movies['content_nltk'].str.strip()\n",
    "\n",
    "# df['content_nltk'] = df_combined\n",
    "# df_movies['content_nltk'] = df_movies_combined\n",
    "\n",
    "# whitespaces to nan\n",
    "df_combined = df_combined.replace(r'^\\s*$', np.nan, regex=True)"
   ]
  },
  {
   "cell_type": "code",
   "execution_count": 137,
   "metadata": {},
   "outputs": [
    {
     "data": {
      "text/html": [
       "<div>\n",
       "<style scoped>\n",
       "    .dataframe tbody tr th:only-of-type {\n",
       "        vertical-align: middle;\n",
       "    }\n",
       "\n",
       "    .dataframe tbody tr th {\n",
       "        vertical-align: top;\n",
       "    }\n",
       "\n",
       "    .dataframe thead th {\n",
       "        text-align: right;\n",
       "    }\n",
       "</style>\n",
       "<table border=\"1\" class=\"dataframe\">\n",
       "  <thead>\n",
       "    <tr style=\"text-align: right;\">\n",
       "      <th></th>\n",
       "      <th>title</th>\n",
       "      <th>author</th>\n",
       "      <th>content_nltk</th>\n",
       "      <th>medium</th>\n",
       "    </tr>\n",
       "  </thead>\n",
       "  <tbody>\n",
       "    <tr>\n",
       "      <th>0</th>\n",
       "      <td>aernout mik communitas</td>\n",
       "      <td>NaN</td>\n",
       "      <td>aernout mik communitas aernout mik zählt zu de...</td>\n",
       "      <td>print</td>\n",
       "    </tr>\n",
       "    <tr>\n",
       "      <th>1</th>\n",
       "      <td>anton henning dt engl</td>\n",
       "      <td>NaN</td>\n",
       "      <td>anton henning dt engl die vorliegende publikat...</td>\n",
       "      <td>print</td>\n",
       "    </tr>\n",
       "    <tr>\n",
       "      <th>2</th>\n",
       "      <td>die feuchtwangers familie tradition und jüdis...</td>\n",
       "      <td>specht heike</td>\n",
       "      <td>die feuchtwangers familie tradition und jüdisc...</td>\n",
       "      <td>print</td>\n",
       "    </tr>\n",
       "    <tr>\n",
       "      <th>3</th>\n",
       "      <td>grüne philosophie ein konservativer denkansatz</td>\n",
       "      <td>scruton roger</td>\n",
       "      <td>grüne philosophie ein konservativer denkansatz...</td>\n",
       "      <td>print</td>\n",
       "    </tr>\n",
       "    <tr>\n",
       "      <th>4</th>\n",
       "      <td>technische dokumentation im maschinen und anl...</td>\n",
       "      <td>schlagowski heinz</td>\n",
       "      <td>technische dokumentation im maschinen und anla...</td>\n",
       "      <td>print</td>\n",
       "    </tr>\n",
       "    <tr>\n",
       "      <th>...</th>\n",
       "      <td>...</td>\n",
       "      <td>...</td>\n",
       "      <td>...</td>\n",
       "      <td>...</td>\n",
       "    </tr>\n",
       "    <tr>\n",
       "      <th>25584</th>\n",
       "      <td>jochen roller  let's dance! lecture  performance</td>\n",
       "      <td>Konzept und Leitung: Gabriele Brandstetter.</td>\n",
       "      <td>jochen roller  let's dance! lecture  performan...</td>\n",
       "      <td>movie</td>\n",
       "    </tr>\n",
       "    <tr>\n",
       "      <th>25585</th>\n",
       "      <td>ai weiwei - stimmen gegen das verstummen</td>\n",
       "      <td>ein Film von Birgit Adler-Conrad.</td>\n",
       "      <td>ai weiwei - stimmen gegen das verstummen der c...</td>\n",
       "      <td>movie</td>\n",
       "    </tr>\n",
       "    <tr>\n",
       "      <th>25586</th>\n",
       "      <td>new york tomorrow</td>\n",
       "      <td>réalisation: Yoann Le Gruiec. Scénario: Jean-M...</td>\n",
       "      <td>new york tomorrow die webdokumentation new yor...</td>\n",
       "      <td>movie</td>\n",
       "    </tr>\n",
       "    <tr>\n",
       "      <th>25587</th>\n",
       "      <td>hostess</td>\n",
       "      <td>ein Film von Rolf Römer. Mit: Annekathrin Bürg...</td>\n",
       "      <td>hostess eine hostess die seit zwei jahren mit ...</td>\n",
       "      <td>movie</td>\n",
       "    </tr>\n",
       "    <tr>\n",
       "      <th>25588</th>\n",
       "      <td>bruno peinado</td>\n",
       "      <td>réalisation: Thomas Lallier.</td>\n",
       "      <td>bruno peinado bruno peinado hat die plastische...</td>\n",
       "      <td>movie</td>\n",
       "    </tr>\n",
       "  </tbody>\n",
       "</table>\n",
       "<p>25589 rows × 4 columns</p>\n",
       "</div>"
      ],
      "text/plain": [
       "                                                   title  \\\n",
       "0                                aernout mik communitas    \n",
       "1                                 anton henning dt engl    \n",
       "2       die feuchtwangers familie tradition und jüdis...   \n",
       "3         grüne philosophie ein konservativer denkansatz   \n",
       "4       technische dokumentation im maschinen und anl...   \n",
       "...                                                  ...   \n",
       "25584   jochen roller  let's dance! lecture  performance   \n",
       "25585           ai weiwei - stimmen gegen das verstummen   \n",
       "25586                                  new york tomorrow   \n",
       "25587                                            hostess   \n",
       "25588                                      bruno peinado   \n",
       "\n",
       "                                                  author  \\\n",
       "0                                                    NaN   \n",
       "1                                                    NaN   \n",
       "2                                           specht heike   \n",
       "3                                          scruton roger   \n",
       "4                                      schlagowski heinz   \n",
       "...                                                  ...   \n",
       "25584        Konzept und Leitung: Gabriele Brandstetter.   \n",
       "25585                  ein Film von Birgit Adler-Conrad.   \n",
       "25586  réalisation: Yoann Le Gruiec. Scénario: Jean-M...   \n",
       "25587  ein Film von Rolf Römer. Mit: Annekathrin Bürg...   \n",
       "25588                       réalisation: Thomas Lallier.   \n",
       "\n",
       "                                            content_nltk medium  \n",
       "0      aernout mik communitas aernout mik zählt zu de...  print  \n",
       "1      anton henning dt engl die vorliegende publikat...  print  \n",
       "2      die feuchtwangers familie tradition und jüdisc...  print  \n",
       "3      grüne philosophie ein konservativer denkansatz...  print  \n",
       "4      technische dokumentation im maschinen und anla...  print  \n",
       "...                                                  ...    ...  \n",
       "25584  jochen roller  let's dance! lecture  performan...  movie  \n",
       "25585  ai weiwei - stimmen gegen das verstummen der c...  movie  \n",
       "25586  new york tomorrow die webdokumentation new yor...  movie  \n",
       "25587  hostess eine hostess die seit zwei jahren mit ...  movie  \n",
       "25588  bruno peinado bruno peinado hat die plastische...  movie  \n",
       "\n",
       "[25589 rows x 4 columns]"
      ]
     },
     "execution_count": 137,
     "metadata": {},
     "output_type": "execute_result"
    }
   ],
   "source": [
    "df_combined.replace('\\s+', ' ', regex=True, inplace=True)\n",
    "df_combined = pd.concat([df_combined, df_movies])\n",
    "df_combined.reset_index(inplace=True,drop=True)\n",
    "df_combined = df_combined[['title','author','content_nltk','medium']]\n",
    "df_combined"
   ]
  },
  {
   "cell_type": "code",
   "execution_count": 138,
   "metadata": {},
   "outputs": [
    {
     "data": {
      "text/plain": [
       "0"
      ]
     },
     "execution_count": 138,
     "metadata": {},
     "output_type": "execute_result"
    }
   ],
   "source": [
    "df_combined['content_nltk'].isnull().sum().sum()"
   ]
  },
  {
   "cell_type": "markdown",
   "metadata": {},
   "source": [
    "<h1>Remove Stop Words</h1>"
   ]
  },
  {
   "cell_type": "code",
   "execution_count": 139,
   "metadata": {},
   "outputs": [
    {
     "data": {
      "text/plain": [
       "'grüne philosophie konservativer denkansatz umweltschutz liegt herkömmlich hoheitsgebiet politischen linken bedrohung natur zufolge internationalen kapitalismus konsumverhalten unbegrenzten ausbeutung natürlicher ressourcen zuzuschreiben roger scruton entblößt grundverständnis gefährlichen trugschluss zerstörerisch kosysteme wirkt denen zukunft abhängt konservative denker würdigt traditionelle prinzipien offensichtlichste wirksamste mittel erhalt planeten sichern lokalismus bürgerverantwortung schlagen dabei bemühungen schwerfälliger nichtregierungsorganisationen internationaler komitees zukunft mitnichten gesichert roger scruton beweist gedankenreichen schrift fortbestand kosystems erde möglich'"
      ]
     },
     "execution_count": 139,
     "metadata": {},
     "output_type": "execute_result"
    }
   ],
   "source": [
    "from nltk.corpus import stopwords\n",
    "stop = stopwords.words('german')\n",
    "\n",
    "df_combined['content_nltk'] = df_combined['content_nltk'].apply(lambda x: ' '.join([word for word in x.split() if word not in (stop)]))\n",
    "df_combined['content_nltk'].iloc[3]"
   ]
  },
  {
   "cell_type": "markdown",
   "metadata": {},
   "source": [
    "<h1>Tokenizing</h1>"
   ]
  },
  {
   "cell_type": "code",
   "execution_count": 140,
   "metadata": {},
   "outputs": [
    {
     "data": {
      "text/plain": [
       "0        aernout mik communitas aernout mik zählt wicht...\n",
       "1        anton henning dt engl vorliegende publikation ...\n",
       "2        feuchtwangers familie tradition jüdisches selb...\n",
       "3        grüne philosophie konservativer denkansatz umw...\n",
       "4        technische dokumentation maschinen anlagenbau ...\n",
       "                               ...                        \n",
       "25584    jochen roller let's dance! lecture performance...\n",
       "25585    ai weiwei - stimmen verstummen chinesische kue...\n",
       "25586    new york tomorrow webdokumentation new york gi...\n",
       "25587    hostess hostess seit zwei jahren automechanike...\n",
       "25588    bruno peinado bruno peinado plastische kunst r...\n",
       "Name: content_nltk, Length: 25589, dtype: object"
      ]
     },
     "execution_count": 140,
     "metadata": {},
     "output_type": "execute_result"
    }
   ],
   "source": [
    "df_tok = df_combined['content_nltk']\n",
    "df_tok"
   ]
  },
  {
   "cell_type": "code",
   "execution_count": 141,
   "metadata": {},
   "outputs": [],
   "source": [
    "tokenized = [ nltk.word_tokenize( str(sentence), language='german' ) for sentence in df_tok ]"
   ]
  },
  {
   "cell_type": "code",
   "execution_count": 173,
   "metadata": {},
   "outputs": [
    {
     "name": "stdout",
     "output_type": "stream",
     "text": [
      "25589\n"
     ]
    }
   ],
   "source": [
    "print (len(tokenized))"
   ]
  },
  {
   "cell_type": "markdown",
   "metadata": {},
   "source": [
    "<h1>Lemmetization</h1>"
   ]
  },
  {
   "cell_type": "code",
   "execution_count": 43,
   "metadata": {},
   "outputs": [],
   "source": [
    "from HanTa import HanoverTagger as ht\n",
    "\n",
    "tagger = ht.HanoverTagger('morphmodel_ger.pgz')"
   ]
  },
  {
   "cell_type": "code",
   "execution_count": 44,
   "metadata": {},
   "outputs": [
    {
     "name": "stderr",
     "output_type": "stream",
     "text": [
      "100%|████████████████████████████████████████████████████████████████████████████| 25583/25583 [34:38<00:00, 12.31it/s]\n"
     ]
    }
   ],
   "source": [
    "words_lematized = []\n",
    "for inner_list in tqdm(tokenized):\n",
    "  temp = []\n",
    "  for word in inner_list:\n",
    "    temp.append(tagger.analyze(word))\n",
    "  words_lematized.append(temp)    "
   ]
  },
  {
   "cell_type": "code",
   "execution_count": 32,
   "metadata": {
    "scrolled": true
   },
   "outputs": [
    {
     "ename": "NameError",
     "evalue": "name 'words_lematized' is not defined",
     "output_type": "error",
     "traceback": [
      "\u001b[1;31m---------------------------------------------------------------------------\u001b[0m",
      "\u001b[1;31mNameError\u001b[0m                                 Traceback (most recent call last)",
      "\u001b[1;32m<ipython-input-32-c064ee79ea8d>\u001b[0m in \u001b[0;36m<module>\u001b[1;34m\u001b[0m\n\u001b[1;32m----> 1\u001b[1;33m \u001b[0mwords_lematized\u001b[0m\u001b[1;33m[\u001b[0m\u001b[1;36m666\u001b[0m\u001b[1;33m]\u001b[0m\u001b[1;33m\u001b[0m\u001b[1;33m\u001b[0m\u001b[0m\n\u001b[0m",
      "\u001b[1;31mNameError\u001b[0m: name 'words_lematized' is not defined"
     ]
    }
   ],
   "source": [
    "words_lematized[666]"
   ]
  },
  {
   "cell_type": "code",
   "execution_count": 47,
   "metadata": {},
   "outputs": [],
   "source": [
    "with open('../data/after_nltk/data_movies_content_after_nltk.pkl', 'wb') as f:\n",
    "    pickle.dump(words_lematized, f)"
   ]
  },
  {
   "cell_type": "code",
   "execution_count": 174,
   "metadata": {},
   "outputs": [
    {
     "name": "stdout",
     "output_type": "stream",
     "text": [
      "25583\n"
     ]
    }
   ],
   "source": [
    "with open('../data/after_nltk/data_movies_content_after_nltk.pkl', 'rb') as f:\n",
    "    words_lematized_imp = pickle.load(f)\n",
    "print(len(words_lematized_imp))"
   ]
  },
  {
   "cell_type": "code",
   "execution_count": 158,
   "metadata": {},
   "outputs": [],
   "source": [
    "# filterning the words according to their POS type\n",
    "\n",
    "# words_lematized_filt = []\n",
    "\n",
    "# for i in words_lematized:\n",
    "#     temp = [j[0] for j in i if j[1].startswith((\"NE\", \"NN\", \"VVFIN\", \"ADJD\"))]\n",
    "#     words_lematized_filt.append(temp)\n",
    "    \n",
    "# POS tagger list\n",
    "# https://medium.com/@muddaprince456/categorizing-and-pos-tagging-with-nltk-python-28f2bc9312c3\n"
   ]
  },
  {
   "cell_type": "code",
   "execution_count": 159,
   "metadata": {},
   "outputs": [],
   "source": [
    "# droping POS tags\n",
    "\n",
    "words_lematized_2 = []\n",
    "for inner_list in words_lematized_imp:\n",
    "  temp = []\n",
    "  for word in inner_list:\n",
    "    temp.append(word[0])\n",
    "  words_lematized_2.append(temp)"
   ]
  },
  {
   "cell_type": "code",
   "execution_count": 160,
   "metadata": {},
   "outputs": [
    {
     "name": "stdout",
     "output_type": "stream",
     "text": [
      "25583\n"
     ]
    }
   ],
   "source": [
    "print (len(words_lematized_2))"
   ]
  },
  {
   "cell_type": "code",
   "execution_count": 161,
   "metadata": {},
   "outputs": [],
   "source": [
    "# ä\n",
    "words_lematized_3 = []\n",
    "for inner_list in words_lematized_2:\n",
    "  temp = []\n",
    "  for word in inner_list:\n",
    "    temp.append(word.replace('ä', 'ae'))\n",
    "  words_lematized_3.append(temp)"
   ]
  },
  {
   "cell_type": "code",
   "execution_count": 162,
   "metadata": {},
   "outputs": [],
   "source": [
    "# Transforming Umlauts, lower case\n",
    "words_lematized_3 = []\n",
    "for inner_list in words_lematized_2:\n",
    "  temp = []\n",
    "  for word in inner_list:\n",
    "    temp.append(word.replace('ä', 'ae').replace(chr(246), 'oe').replace(chr(252), 'ue').replace(chr(223), 'ss').replace(chr(220), 'Ue').replace(chr(196), 'Ae').replace(chr(214), 'Oe').lower())\n",
    "  words_lematized_3.append(temp)"
   ]
  },
  {
   "cell_type": "code",
   "execution_count": 163,
   "metadata": {},
   "outputs": [
    {
     "name": "stdout",
     "output_type": "stream",
     "text": [
      "25583\n"
     ]
    }
   ],
   "source": [
    "print (len(words_lematized_3))"
   ]
  },
  {
   "cell_type": "code",
   "execution_count": 164,
   "metadata": {},
   "outputs": [],
   "source": [
    "df_combined['content_nltk'] = pd.Series(words_lematized_3)"
   ]
  },
  {
   "cell_type": "code",
   "execution_count": 172,
   "metadata": {},
   "outputs": [
    {
     "name": "stdout",
     "output_type": "stream",
     "text": [
      "6\n",
      "(25589, 4)\n"
     ]
    }
   ],
   "source": [
    "print(df_combined['content_nltk'].isnull().sum().sum())\n",
    "print(df_combined.shape)"
   ]
  },
  {
   "cell_type": "code",
   "execution_count": 167,
   "metadata": {},
   "outputs": [
    {
     "data": {
      "text/html": [
       "<div>\n",
       "<style scoped>\n",
       "    .dataframe tbody tr th:only-of-type {\n",
       "        vertical-align: middle;\n",
       "    }\n",
       "\n",
       "    .dataframe tbody tr th {\n",
       "        vertical-align: top;\n",
       "    }\n",
       "\n",
       "    .dataframe thead th {\n",
       "        text-align: right;\n",
       "    }\n",
       "</style>\n",
       "<table border=\"1\" class=\"dataframe\">\n",
       "  <thead>\n",
       "    <tr style=\"text-align: right;\">\n",
       "      <th></th>\n",
       "      <th>title</th>\n",
       "      <th>author</th>\n",
       "      <th>content_nltk</th>\n",
       "      <th>medium</th>\n",
       "    </tr>\n",
       "  </thead>\n",
       "  <tbody>\n",
       "    <tr>\n",
       "      <th>25569</th>\n",
       "      <td>zeugen unerwünsch</td>\n",
       "      <td>ein Film von Juan Jose Lozano.</td>\n",
       "      <td>[better, things, drogenkonsum, einsamkeit, ver...</td>\n",
       "      <td>movie</td>\n",
       "    </tr>\n",
       "    <tr>\n",
       "      <th>25570</th>\n",
       "      <td>schläft ein lied in allen dingen</td>\n",
       "      <td>Regie: Andreas Struck. Buch: Dagmar Gabler. St...</td>\n",
       "      <td>[ginger, fred, gealtert, taenzerin, ehemalig, ...</td>\n",
       "      <td>movie</td>\n",
       "    </tr>\n",
       "    <tr>\n",
       "      <th>25571</th>\n",
       "      <td>ein   mädchen im rin</td>\n",
       "      <td>Buch/Regie: Aysun Bademsoy.</td>\n",
       "      <td>[cast, --, cast, creates, a, claustrophobic, a...</td>\n",
       "      <td>movie</td>\n",
       "    </tr>\n",
       "    <tr>\n",
       "      <th>25572</th>\n",
       "      <td>the   gloamin</td>\n",
       "      <td>un film de Nobrain.</td>\n",
       "      <td>[lenny, 's, documentary, lennys, documentary, ...</td>\n",
       "      <td>movie</td>\n",
       "    </tr>\n",
       "    <tr>\n",
       "      <th>25573</th>\n",
       "      <td>une   robe chane</td>\n",
       "      <td>un film de Rita Knobel-Ulrich.</td>\n",
       "      <td>[leben, wohl, joseph, --, jung, mann, fu, zeit...</td>\n",
       "      <td>movie</td>\n",
       "    </tr>\n",
       "    <tr>\n",
       "      <th>25574</th>\n",
       "      <td>how</td>\n",
       "      <td>mit James Franco  David Strathairn  Jon Hamm ....</td>\n",
       "      <td>[mao, a, chinese, verehren, gott, gross, steue...</td>\n",
       "      <td>movie</td>\n",
       "    </tr>\n",
       "    <tr>\n",
       "      <th>25575</th>\n",
       "      <td>better things</td>\n",
       "      <td>written and directed by Duane Hopkins.</td>\n",
       "      <td>[3, tag, to, fuenf, oesterreichisch, jugendlic...</td>\n",
       "      <td>movie</td>\n",
       "    </tr>\n",
       "    <tr>\n",
       "      <th>25576</th>\n",
       "      <td>ginger und fred</td>\n",
       "      <td>Regie: Federico Fellini. Drehbuch: Federico Fe...</td>\n",
       "      <td>[spiegel, --, 60, jahr, zeitgeschichte, januar...</td>\n",
       "      <td>movie</td>\n",
       "    </tr>\n",
       "    <tr>\n",
       "      <th>25577</th>\n",
       "      <td>cast.</td>\n",
       "      <td>NaN</td>\n",
       "      <td>[me, too, --, wer, schon, normal, --, jaehrige...</td>\n",
       "      <td>movie</td>\n",
       "    </tr>\n",
       "    <tr>\n",
       "      <th>25578</th>\n",
       "      <td>lenny's documentary</td>\n",
       "      <td>Ian Bourn.</td>\n",
       "      <td>[jochen, roller, let, 's, dancen, --, lecture,...</td>\n",
       "      <td>movie</td>\n",
       "    </tr>\n",
       "    <tr>\n",
       "      <th>25579</th>\n",
       "      <td>leb wohl  joseph.</td>\n",
       "      <td>NaN</td>\n",
       "      <td>[ai, weiwei, --, stimmen, verstummen, chinesis...</td>\n",
       "      <td>movie</td>\n",
       "    </tr>\n",
       "    <tr>\n",
       "      <th>25580</th>\n",
       "      <td>mao</td>\n",
       "      <td>[Jens Nicolai].</td>\n",
       "      <td>[new, york, tomorrow, webdokumentation, new, y...</td>\n",
       "      <td>movie</td>\n",
       "    </tr>\n",
       "    <tr>\n",
       "      <th>25581</th>\n",
       "      <td>in 3 tagen bist du to</td>\n",
       "      <td>Regie: Andreas Prochaska. Buch: Thomas Baum   ...</td>\n",
       "      <td>[hostess, hostess, seit, zwei, jahr, automecha...</td>\n",
       "      <td>movie</td>\n",
       "    </tr>\n",
       "    <tr>\n",
       "      <th>25582</th>\n",
       "      <td>der   spiegel: 60 jahre zeitgeschichte</td>\n",
       "      <td>Katrin Klocke und Britta Sandberg.</td>\n",
       "      <td>[bruno, peinado, bruno, peinado, plastisch, ku...</td>\n",
       "      <td>movie</td>\n",
       "    </tr>\n",
       "    <tr>\n",
       "      <th>25583</th>\n",
       "      <td>me too - wer will schon normal sein ?</td>\n",
       "      <td>Buch &amp; Regie Álvaro Pastor &amp; Antonio Naharro. ...</td>\n",
       "      <td>NaN</td>\n",
       "      <td>movie</td>\n",
       "    </tr>\n",
       "    <tr>\n",
       "      <th>25584</th>\n",
       "      <td>jochen roller  let's dance! lecture  performance</td>\n",
       "      <td>Konzept und Leitung: Gabriele Brandstetter.</td>\n",
       "      <td>NaN</td>\n",
       "      <td>movie</td>\n",
       "    </tr>\n",
       "    <tr>\n",
       "      <th>25585</th>\n",
       "      <td>ai weiwei - stimmen gegen das verstummen</td>\n",
       "      <td>ein Film von Birgit Adler-Conrad.</td>\n",
       "      <td>NaN</td>\n",
       "      <td>movie</td>\n",
       "    </tr>\n",
       "    <tr>\n",
       "      <th>25586</th>\n",
       "      <td>new york tomorrow</td>\n",
       "      <td>réalisation: Yoann Le Gruiec. Scénario: Jean-M...</td>\n",
       "      <td>NaN</td>\n",
       "      <td>movie</td>\n",
       "    </tr>\n",
       "    <tr>\n",
       "      <th>25587</th>\n",
       "      <td>hostess</td>\n",
       "      <td>ein Film von Rolf Römer. Mit: Annekathrin Bürg...</td>\n",
       "      <td>NaN</td>\n",
       "      <td>movie</td>\n",
       "    </tr>\n",
       "    <tr>\n",
       "      <th>25588</th>\n",
       "      <td>bruno peinado</td>\n",
       "      <td>réalisation: Thomas Lallier.</td>\n",
       "      <td>NaN</td>\n",
       "      <td>movie</td>\n",
       "    </tr>\n",
       "  </tbody>\n",
       "</table>\n",
       "</div>"
      ],
      "text/plain": [
       "                                                  title  \\\n",
       "25569                                 zeugen unerwünsch   \n",
       "25570                  schläft ein lied in allen dingen   \n",
       "25571                              ein   mädchen im rin   \n",
       "25572                                     the   gloamin   \n",
       "25573                                  une   robe chane   \n",
       "25574                                               how   \n",
       "25575                                     better things   \n",
       "25576                                   ginger und fred   \n",
       "25577                                             cast.   \n",
       "25578                               lenny's documentary   \n",
       "25579                                 leb wohl  joseph.   \n",
       "25580                                               mao   \n",
       "25581                             in 3 tagen bist du to   \n",
       "25582            der   spiegel: 60 jahre zeitgeschichte   \n",
       "25583             me too - wer will schon normal sein ?   \n",
       "25584  jochen roller  let's dance! lecture  performance   \n",
       "25585          ai weiwei - stimmen gegen das verstummen   \n",
       "25586                                 new york tomorrow   \n",
       "25587                                           hostess   \n",
       "25588                                     bruno peinado   \n",
       "\n",
       "                                                  author  \\\n",
       "25569                     ein Film von Juan Jose Lozano.   \n",
       "25570  Regie: Andreas Struck. Buch: Dagmar Gabler. St...   \n",
       "25571                        Buch/Regie: Aysun Bademsoy.   \n",
       "25572                                un film de Nobrain.   \n",
       "25573                     un film de Rita Knobel-Ulrich.   \n",
       "25574  mit James Franco  David Strathairn  Jon Hamm ....   \n",
       "25575             written and directed by Duane Hopkins.   \n",
       "25576  Regie: Federico Fellini. Drehbuch: Federico Fe...   \n",
       "25577                                                NaN   \n",
       "25578                                         Ian Bourn.   \n",
       "25579                                                NaN   \n",
       "25580                                    [Jens Nicolai].   \n",
       "25581  Regie: Andreas Prochaska. Buch: Thomas Baum   ...   \n",
       "25582                 Katrin Klocke und Britta Sandberg.   \n",
       "25583  Buch & Regie Álvaro Pastor & Antonio Naharro. ...   \n",
       "25584        Konzept und Leitung: Gabriele Brandstetter.   \n",
       "25585                  ein Film von Birgit Adler-Conrad.   \n",
       "25586  réalisation: Yoann Le Gruiec. Scénario: Jean-M...   \n",
       "25587  ein Film von Rolf Römer. Mit: Annekathrin Bürg...   \n",
       "25588                       réalisation: Thomas Lallier.   \n",
       "\n",
       "                                            content_nltk medium  \n",
       "25569  [better, things, drogenkonsum, einsamkeit, ver...  movie  \n",
       "25570  [ginger, fred, gealtert, taenzerin, ehemalig, ...  movie  \n",
       "25571  [cast, --, cast, creates, a, claustrophobic, a...  movie  \n",
       "25572  [lenny, 's, documentary, lennys, documentary, ...  movie  \n",
       "25573  [leben, wohl, joseph, --, jung, mann, fu, zeit...  movie  \n",
       "25574  [mao, a, chinese, verehren, gott, gross, steue...  movie  \n",
       "25575  [3, tag, to, fuenf, oesterreichisch, jugendlic...  movie  \n",
       "25576  [spiegel, --, 60, jahr, zeitgeschichte, januar...  movie  \n",
       "25577  [me, too, --, wer, schon, normal, --, jaehrige...  movie  \n",
       "25578  [jochen, roller, let, 's, dancen, --, lecture,...  movie  \n",
       "25579  [ai, weiwei, --, stimmen, verstummen, chinesis...  movie  \n",
       "25580  [new, york, tomorrow, webdokumentation, new, y...  movie  \n",
       "25581  [hostess, hostess, seit, zwei, jahr, automecha...  movie  \n",
       "25582  [bruno, peinado, bruno, peinado, plastisch, ku...  movie  \n",
       "25583                                                NaN  movie  \n",
       "25584                                                NaN  movie  \n",
       "25585                                                NaN  movie  \n",
       "25586                                                NaN  movie  \n",
       "25587                                                NaN  movie  \n",
       "25588                                                NaN  movie  "
      ]
     },
     "execution_count": 167,
     "metadata": {},
     "output_type": "execute_result"
    }
   ],
   "source": [
    "df_combined.tail(20)"
   ]
  },
  {
   "cell_type": "code",
   "execution_count": null,
   "metadata": {},
   "outputs": [],
   "source": []
  },
  {
   "cell_type": "code",
   "execution_count": null,
   "metadata": {},
   "outputs": [],
   "source": []
  },
  {
   "cell_type": "code",
   "execution_count": null,
   "metadata": {},
   "outputs": [],
   "source": []
  },
  {
   "cell_type": "code",
   "execution_count": null,
   "metadata": {},
   "outputs": [],
   "source": []
  },
  {
   "cell_type": "code",
   "execution_count": null,
   "metadata": {},
   "outputs": [],
   "source": []
  },
  {
   "cell_type": "code",
   "execution_count": null,
   "metadata": {},
   "outputs": [],
   "source": []
  },
  {
   "cell_type": "markdown",
   "metadata": {},
   "source": [
    "<h1>Export</h1>"
   ]
  },
  {
   "cell_type": "code",
   "execution_count": 161,
   "metadata": {},
   "outputs": [],
   "source": [
    "# export for doc2vec\n",
    "words_lematized_export = pd.Series(words_lematized_3)\n",
    "words_lematized_export.to_csv('../data/after_nltk/data_movies_content_after_nltk_doc2vec.csv', index=True)"
   ]
  },
  {
   "cell_type": "code",
   "execution_count": 162,
   "metadata": {},
   "outputs": [],
   "source": [
    "# export for RRI\n",
    "words_lematized_export_2 = words_lematized_export.str.join(' ')\n",
    "words_lematized_export_2 = words_lematized_export_2.str.replace('[^\\w\\s]','')\n",
    "words_lematized_export_2 = words_lematized_export_2.str.findall('\\w{2,}').str.join(' ')\n",
    "words_lematized_export_2.to_csv('../data/after_nltk/data_movies_content_after_nltk_rri.csv', index=True)"
   ]
  },
  {
   "cell_type": "markdown",
   "metadata": {},
   "source": [
    "XXXXXXXXXXXXXXXXXXXXXXXXXXXXXXXXXXXXXXXXXXXXXXXXXXXXXXX"
   ]
  },
  {
   "cell_type": "code",
   "execution_count": null,
   "metadata": {},
   "outputs": [],
   "source": [
    "df_import = pd.read_pickle('../data/data_filtered contents.pkl')\n",
    "\n",
    "#df_combined['content'] = "
   ]
  },
  {
   "cell_type": "code",
   "execution_count": 15,
   "metadata": {},
   "outputs": [],
   "source": [
    "df_combined.to_pickle('../data/after_nltk/data_movies_after_nltk.pkl')\n",
    "# df_content.to_csv('../data/after_nltk/df_content.csv', index=True)\n",
    "#df[\"content_nltk\"].to_csv('../data/after_nltk/df_content_after_nltk+titles.csv', index=True)\n",
    "#df[\"content_nltk\"].to_csv('../data/after_nltk/df_movies_content_after_nltk.csv', index=True)\n",
    "# df.to_excel('../data/after_nltk/data_after_nltk.xlsx', index = False)"
   ]
  },
  {
   "cell_type": "code",
   "execution_count": 34,
   "metadata": {},
   "outputs": [],
   "source": [
    "# #counts number of lines\n",
    "# fname = \"df_content.txt\"\n",
    "# count = 0\n",
    "# with open(fname, 'r') as f:\n",
    "#     for line in f:\n",
    "#         count += 1\n",
    "# print(\"Total number of lines is:\", count)"
   ]
  }
 ],
 "metadata": {
  "kernelspec": {
   "display_name": "Python 3",
   "language": "python",
   "name": "python3"
  },
  "language_info": {
   "codemirror_mode": {
    "name": "ipython",
    "version": 3
   },
   "file_extension": ".py",
   "mimetype": "text/x-python",
   "name": "python",
   "nbconvert_exporter": "python",
   "pygments_lexer": "ipython3",
   "version": "3.7.4"
  }
 },
 "nbformat": 4,
 "nbformat_minor": 2
}
